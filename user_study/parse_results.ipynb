{
 "cells": [
  {
   "cell_type": "code",
   "execution_count": 3,
   "metadata": {},
   "outputs": [],
   "source": [
    "from csv import DictReader\n",
    "\n",
    "def read_valid_results(path):\n",
    "    valid_res = []\n",
    "    with open(path, 'r') as file:\n",
    "        reader = DictReader(file)\n",
    "        next(reader)\n",
    "        next(reader)\n",
    "        for item in reader:\n",
    "            if item['Status'] != 'Survey Preview' and item['Q6'] != '' and item['Screen 1'] == 'Yes' and item['Screen 2'] == '40':\n",
    "                valid_res.append(item)\n",
    "    return valid_res"
   ]
  },
  {
   "cell_type": "code",
   "execution_count": 6,
   "metadata": {},
   "outputs": [
    {
     "name": "stdout",
     "output_type": "stream",
     "text": [
      "52 valid responses\n",
      "16 reliable responses\n",
      "[(10, 0.4375), (10, 0.3125), (10, 0.125), (9, 0.5), (7, 0.6), (7, 0.3), (7, 0.2), (7, 0.1), (7, 0.1), (6, 0.125), (5, 0.8333333333333334), (5, 0.6666666666666666), (4, 0.25), (4, 0.25), (4, 0.0), (4, 0.0)]\n"
     ]
    },
    {
     "ename": "TypeError",
     "evalue": "can't convert type 'tuple' to numerator/denominator",
     "output_type": "error",
     "traceback": [
      "\u001b[0;31m---------------------------------------------------------------------------\u001b[0m",
      "\u001b[0;31mTypeError\u001b[0m                                 Traceback (most recent call last)",
      "\u001b[1;32m/home/tyebkhad/GeneticBoulders/user_study/parse_results.ipynb Cell 2\u001b[0m in \u001b[0;36m<cell line: 16>\u001b[0;34m()\u001b[0m\n\u001b[1;32m     <a href='vscode-notebook-cell:/home/tyebkhad/GeneticBoulders/user_study/parse_results.ipynb#W1sZmlsZQ%3D%3D?line=13'>14</a>\u001b[0m percs \u001b[39m=\u001b[39m \u001b[39msorted\u001b[39m([(r\u001b[39m.\u001b[39mmax_climbed, r\u001b[39m.\u001b[39mperc_generated_gradeable()) \u001b[39mfor\u001b[39;00m r \u001b[39min\u001b[39;00m reliable_responses], reverse\u001b[39m=\u001b[39m\u001b[39mTrue\u001b[39;00m)\n\u001b[1;32m     <a href='vscode-notebook-cell:/home/tyebkhad/GeneticBoulders/user_study/parse_results.ipynb#W1sZmlsZQ%3D%3D?line=14'>15</a>\u001b[0m \u001b[39mprint\u001b[39m(percs)\n\u001b[0;32m---> <a href='vscode-notebook-cell:/home/tyebkhad/GeneticBoulders/user_study/parse_results.ipynb#W1sZmlsZQ%3D%3D?line=15'>16</a>\u001b[0m \u001b[39mprint\u001b[39m(mean(percs))\n",
      "File \u001b[0;32m/usr/lib/python3.8/statistics.py:316\u001b[0m, in \u001b[0;36mmean\u001b[0;34m(data)\u001b[0m\n\u001b[1;32m    314\u001b[0m \u001b[39mif\u001b[39;00m n \u001b[39m<\u001b[39m \u001b[39m1\u001b[39m:\n\u001b[1;32m    315\u001b[0m     \u001b[39mraise\u001b[39;00m StatisticsError(\u001b[39m'\u001b[39m\u001b[39mmean requires at least one data point\u001b[39m\u001b[39m'\u001b[39m)\n\u001b[0;32m--> 316\u001b[0m T, total, count \u001b[39m=\u001b[39m _sum(data)\n\u001b[1;32m    317\u001b[0m \u001b[39massert\u001b[39;00m count \u001b[39m==\u001b[39m n\n\u001b[1;32m    318\u001b[0m \u001b[39mreturn\u001b[39;00m _convert(total\u001b[39m/\u001b[39mn, T)\n",
      "File \u001b[0;32m/usr/lib/python3.8/statistics.py:166\u001b[0m, in \u001b[0;36m_sum\u001b[0;34m(data, start)\u001b[0m\n\u001b[1;32m    164\u001b[0m \u001b[39mfor\u001b[39;00m typ, values \u001b[39min\u001b[39;00m groupby(data, \u001b[39mtype\u001b[39m):\n\u001b[1;32m    165\u001b[0m     T \u001b[39m=\u001b[39m _coerce(T, typ)  \u001b[39m# or raise TypeError\u001b[39;00m\n\u001b[0;32m--> 166\u001b[0m     \u001b[39mfor\u001b[39;00m n,d \u001b[39min\u001b[39;00m \u001b[39mmap\u001b[39m(_exact_ratio, values):\n\u001b[1;32m    167\u001b[0m         count \u001b[39m+\u001b[39m\u001b[39m=\u001b[39m \u001b[39m1\u001b[39m\n\u001b[1;32m    168\u001b[0m         partials[d] \u001b[39m=\u001b[39m partials_get(d, \u001b[39m0\u001b[39m) \u001b[39m+\u001b[39m n\n",
      "File \u001b[0;32m/usr/lib/python3.8/statistics.py:248\u001b[0m, in \u001b[0;36m_exact_ratio\u001b[0;34m(x)\u001b[0m\n\u001b[1;32m    246\u001b[0m     \u001b[39mreturn\u001b[39;00m (x, \u001b[39mNone\u001b[39;00m)\n\u001b[1;32m    247\u001b[0m msg \u001b[39m=\u001b[39m \u001b[39m\"\u001b[39m\u001b[39mcan\u001b[39m\u001b[39m'\u001b[39m\u001b[39mt convert type \u001b[39m\u001b[39m'\u001b[39m\u001b[39m{}\u001b[39;00m\u001b[39m'\u001b[39m\u001b[39m to numerator/denominator\u001b[39m\u001b[39m\"\u001b[39m\n\u001b[0;32m--> 248\u001b[0m \u001b[39mraise\u001b[39;00m \u001b[39mTypeError\u001b[39;00m(msg\u001b[39m.\u001b[39mformat(\u001b[39mtype\u001b[39m(x)\u001b[39m.\u001b[39m\u001b[39m__name__\u001b[39m))\n",
      "\u001b[0;31mTypeError\u001b[0m: can't convert type 'tuple' to numerator/denominator"
     ]
    }
   ],
   "source": [
    "from statistics import mean\n",
    "from image_link_mapping import IMAGE_LINKS\n",
    "from survey_response import SurveyResponse\n",
    "path = '/home/tyebkhad/GeneticBoulders/user_study/Evolving MoonBoard Routes_February 20, 2023_20.45.csv'\n",
    "valid_res = read_valid_results(path)\n",
    "calibration_indices = [i for i, v in enumerate(IMAGE_LINKS) if 'calibrate' in v]\n",
    "\n",
    "responses = [SurveyResponse(res) for res in valid_res]\n",
    "print(len(responses), 'valid responses')\n",
    "\n",
    "THRESHOLD = 0.5\n",
    "reliable_responses = [r for r in responses if (p := r.perc_calibrated_gradeable()) and p >= THRESHOLD]\n",
    "print(len(reliable_responses), 'reliable responses')\n",
    "calib_percs = sorted([(r.max_climbed, r.perc_calibrated_gradeable()) for r in reliable_responses], reverse=True)\n",
    "gen_percs = sorted([(r.max_climbed, r.perc_generated_gradeable()) for r in reliable_responses], reverse=True)\n",
    "print(calib_percs)\n",
    "print(gen_percs)\n",
    "print(mean(percs))\n",
    "\n",
    "# look at correlation between max grade and being accurate\n",
    "# \n",
    "\n",
    "# print(sorted((r.max_gradeable() for r in responses), reverse=True))\n",
    "# percs = [r.perc_calibrated_gradeable() for r in responses]\n",
    "# print(sorted(percs, reverse=True))\n",
    "# for resp in responses:\n",
    "#     print(resp.perc_calibrated_gradeable())\n",
    "\n",
    "# got_v4 = []\n",
    "# for item in valid_res:\n",
    "#     v4_resp = item['17_Q10']\n",
    "#     if 'V4' in v4_resp or 'V5' in v4_resp:\n",
    "#         got_v4.append(item)\n",
    "# print(len(got_v4))\n",
    "# for r in got_v4:\n",
    "#     print(r)"
   ]
  },
  {
   "attachments": {},
   "cell_type": "markdown",
   "metadata": {},
   "source": [
    "## Recording\n",
    "- 52 valid responses\n",
    "- 16 responses with >= 50% correct calibration at or below their max climbing grade\n",
    "    - these responses agreed with predicted grade 30% of the time\n",
    "- "
   ]
  }
 ],
 "metadata": {
  "kernelspec": {
   "display_name": "Python 3",
   "language": "python",
   "name": "python3"
  },
  "language_info": {
   "codemirror_mode": {
    "name": "ipython",
    "version": 3
   },
   "file_extension": ".py",
   "mimetype": "text/x-python",
   "name": "python",
   "nbconvert_exporter": "python",
   "pygments_lexer": "ipython3",
   "version": "3.8.10"
  },
  "orig_nbformat": 4,
  "vscode": {
   "interpreter": {
    "hash": "e7370f93d1d0cde622a1f8e1c04877d8463912d04d973331ad4851f04de6915a"
   }
  }
 },
 "nbformat": 4,
 "nbformat_minor": 2
}
