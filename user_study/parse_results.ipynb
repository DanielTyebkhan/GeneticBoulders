{
 "cells": [
  {
   "cell_type": "code",
   "execution_count": 2,
   "metadata": {},
   "outputs": [],
   "source": [
    "from csv import DictReader\n",
    "from survey_response import SurveyResponse\n",
    "\n",
    "def read_valid_results(path):\n",
    "    valid_res = []\n",
    "    with open(path, 'r') as file:\n",
    "        reader = DictReader(file)\n",
    "        next(reader)\n",
    "        next(reader)\n",
    "        for item in reader:\n",
    "            if item['Status'] != 'Survey Preview' and item['Q6'] != '': #and item['Screen 1'] == 'Yes' and item['Screen 2'] == '40':\n",
    "                valid_res.append(item)\n",
    "    return valid_res\n",
    "\n",
    "path = '/home/daniel/GeneticBoulders/user_study/Evolving MoonBoard Routes_February 20, 2023_20.45.csv'\n",
    "valid_res = read_valid_results(path)\n",
    "responses = [SurveyResponse(res) for res in valid_res]"
   ]
  },
  {
   "cell_type": "code",
   "execution_count": 3,
   "metadata": {},
   "outputs": [
    {
     "ename": "ZeroDivisionError",
     "evalue": "division by zero",
     "output_type": "error",
     "traceback": [
      "\u001b[0;31m---------------------------------------------------------------------------\u001b[0m",
      "\u001b[0;31mZeroDivisionError\u001b[0m                         Traceback (most recent call last)",
      "Cell \u001b[0;32mIn [3], line 11\u001b[0m\n\u001b[1;32m      8\u001b[0m responses \u001b[39m=\u001b[39m [SurveyResponse(res) \u001b[39mfor\u001b[39;00m res \u001b[39min\u001b[39;00m valid_res]\n\u001b[1;32m     10\u001b[0m THRESHOLD \u001b[39m=\u001b[39m \u001b[39m0.5\u001b[39m\n\u001b[0;32m---> 11\u001b[0m reliable_responses \u001b[39m=\u001b[39m [r \u001b[39mfor\u001b[39;00m r \u001b[39min\u001b[39;00m responses \u001b[39mif\u001b[39;00m r\u001b[39m.\u001b[39mperc_calibrated_gradeable() \u001b[39m>\u001b[39m\u001b[39m=\u001b[39m THRESHOLD]\n\u001b[1;32m     12\u001b[0m \u001b[39mprint\u001b[39m(\u001b[39mlen\u001b[39m(reliable_responses))\n\u001b[1;32m     13\u001b[0m percs \u001b[39m=\u001b[39m \u001b[39msorted\u001b[39m([r\u001b[39m.\u001b[39mperc_generated_gradeable() \u001b[39mfor\u001b[39;00m r \u001b[39min\u001b[39;00m reliable_responses], reverse\u001b[39m=\u001b[39m\u001b[39mTrue\u001b[39;00m)\n",
      "Cell \u001b[0;32mIn [3], line 11\u001b[0m, in \u001b[0;36m<listcomp>\u001b[0;34m(.0)\u001b[0m\n\u001b[1;32m      8\u001b[0m responses \u001b[39m=\u001b[39m [SurveyResponse(res) \u001b[39mfor\u001b[39;00m res \u001b[39min\u001b[39;00m valid_res]\n\u001b[1;32m     10\u001b[0m THRESHOLD \u001b[39m=\u001b[39m \u001b[39m0.5\u001b[39m\n\u001b[0;32m---> 11\u001b[0m reliable_responses \u001b[39m=\u001b[39m [r \u001b[39mfor\u001b[39;00m r \u001b[39min\u001b[39;00m responses \u001b[39mif\u001b[39;00m r\u001b[39m.\u001b[39;49mperc_calibrated_gradeable() \u001b[39m>\u001b[39m\u001b[39m=\u001b[39m THRESHOLD]\n\u001b[1;32m     12\u001b[0m \u001b[39mprint\u001b[39m(\u001b[39mlen\u001b[39m(reliable_responses))\n\u001b[1;32m     13\u001b[0m percs \u001b[39m=\u001b[39m \u001b[39msorted\u001b[39m([r\u001b[39m.\u001b[39mperc_generated_gradeable() \u001b[39mfor\u001b[39;00m r \u001b[39min\u001b[39;00m reliable_responses], reverse\u001b[39m=\u001b[39m\u001b[39mTrue\u001b[39;00m)\n",
      "File \u001b[0;32m~/GeneticBoulders/user_study/survey_response.py:48\u001b[0m, in \u001b[0;36mSurveyResponse.perc_calibrated_gradeable\u001b[0;34m(self)\u001b[0m\n\u001b[1;32m     47\u001b[0m \u001b[39mdef\u001b[39;00m \u001b[39mperc_calibrated_gradeable\u001b[39m(\u001b[39mself\u001b[39m):\n\u001b[0;32m---> 48\u001b[0m     \u001b[39mreturn\u001b[39;00m \u001b[39mself\u001b[39;49m\u001b[39m.\u001b[39;49mperc_gradeable(\u001b[39mself\u001b[39;49m\u001b[39m.\u001b[39;49mcalibrations)\n",
      "File \u001b[0;32m~/GeneticBoulders/user_study/survey_response.py:45\u001b[0m, in \u001b[0;36mSurveyResponse.perc_gradeable\u001b[0;34m(self, ls)\u001b[0m\n\u001b[1;32m     43\u001b[0m valid \u001b[39m=\u001b[39m [c \u001b[39mfor\u001b[39;00m c \u001b[39min\u001b[39;00m ls \u001b[39mif\u001b[39;00m c[\u001b[39m0\u001b[39m] \u001b[39m<\u001b[39m\u001b[39m=\u001b[39m top]\n\u001b[1;32m     44\u001b[0m correct \u001b[39m=\u001b[39m \u001b[39mself\u001b[39m\u001b[39m.\u001b[39mcorrect_list(valid)\n\u001b[0;32m---> 45\u001b[0m \u001b[39mreturn\u001b[39;00m \u001b[39mlen\u001b[39;49m(correct) \u001b[39m/\u001b[39;49m \u001b[39mlen\u001b[39;49m(valid)\n",
      "\u001b[0;31mZeroDivisionError\u001b[0m: division by zero"
     ]
    }
   ],
   "source": [
    "from statistics import mean\n",
    "from image_link_mapping import IMAGE_LINKS\n",
    "calibration_indices = [i for i, v in enumerate(IMAGE_LINKS) if 'calibrate' in v]\n",
    "\n",
    "THRESHOLD = 0.5\n",
    "reliable_responses = [r for r in responses if r.perc_calibrated_gradeable() >= THRESHOLD]\n",
    "print(len(reliable_responses))\n",
    "percs = sorted([r.perc_generated_gradeable() for r in reliable_responses], reverse=True)\n",
    "print(percs)\n",
    "print(mean(percs))\n",
    "\n",
    "# look at correlation between max grade and being accurate\n",
    "# \n",
    "\n",
    "# print(sorted((r.max_gradeable() for r in responses), reverse=True))\n",
    "# percs = [r.perc_calibrated_gradeable() for r in responses]\n",
    "# print(sorted(percs, reverse=True))\n",
    "# for resp in responses:\n",
    "#     print(resp.perc_calibrated_gradeable())\n",
    "\n",
    "# got_v4 = []\n",
    "# for item in valid_res:\n",
    "#     v4_resp = item['17_Q10']\n",
    "#     if 'V4' in v4_resp or 'V5' in v4_resp:\n",
    "#         got_v4.append(item)\n",
    "# print(len(got_v4))\n",
    "# for r in got_v4:\n",
    "#     print(r)"
   ]
  },
  {
   "cell_type": "code",
   "execution_count": null,
   "metadata": {},
   "outputs": [],
   "source": []
  }
 ],
 "metadata": {
  "kernelspec": {
   "display_name": "Python 3",
   "language": "python",
   "name": "python3"
  },
  "language_info": {
   "codemirror_mode": {
    "name": "ipython",
    "version": 3
   },
   "file_extension": ".py",
   "mimetype": "text/x-python",
   "name": "python",
   "nbconvert_exporter": "python",
   "pygments_lexer": "ipython3",
   "version": "3.8.10"
  },
  "orig_nbformat": 4,
  "vscode": {
   "interpreter": {
    "hash": "31f2aee4e71d21fbe5cf8b01ff0e069b9275f58929596ceb00d14d90e3e16cd6"
   }
  }
 },
 "nbformat": 4,
 "nbformat_minor": 2
}
