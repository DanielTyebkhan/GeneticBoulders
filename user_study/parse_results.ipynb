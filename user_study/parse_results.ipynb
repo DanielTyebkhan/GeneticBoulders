{
 "cells": [
  {
   "cell_type": "code",
   "execution_count": 3,
   "metadata": {},
   "outputs": [],
   "source": [
    "from collections import defaultdict\n",
    "from csv import DictReader\n",
    "from survey_response import SurveyResponse\n",
    "\n",
    "def read_valid_results(path):\n",
    "    valid_res = []\n",
    "    with open(path, 'r') as file:\n",
    "        reader = DictReader(file)\n",
    "        next(reader)\n",
    "        next(reader)\n",
    "        for item in reader:\n",
    "            if item['Status'] != 'Survey Preview' and item['Q6'] != '' and item['Screen 1'] == 'Yes' and item['Screen 2'] == '40':\n",
    "                valid_res.append(item)\n",
    "    return valid_res\n",
    "\n",
    "path = '/home/daniel/GeneticBoulders/user_study/Evolving MoonBoard Routes_February 20, 2023_20.45.csv'\n",
    "valid_res = read_valid_results(path)\n",
    "all_responses = [SurveyResponse(res) for res in valid_res]\n",
    "\n",
    "THRESHOLD = 0.5\n",
    "reliable_responses = [r for r in all_responses if (p := r.perc_calibrated_gradeable()) and p >= THRESHOLD]\n",
    "rr_dict = defaultdict(list)\n",
    "for r in reliable_responses:\n",
    "    rr_dict[r.max_climbed].append(r)"
   ]
  },
  {
   "cell_type": "code",
   "execution_count": 5,
   "metadata": {},
   "outputs": [
    {
     "name": "stdout",
     "output_type": "stream",
     "text": [
      "0.30096153846153845\n",
      "0.3192307692307692\n"
     ]
    }
   ],
   "source": [
    "# Calculating general human accuracy on benchmarks\n",
    "from statistics import mean\n",
    "print(mean([r.perc_generated_correct() for r in all_responses]))\n",
    "print(mean([r.perc_calibration_correct() for r in all_responses]))"
   ]
  },
  {
   "cell_type": "code",
   "execution_count": 7,
   "metadata": {},
   "outputs": [
    {
     "name": "stdout",
     "output_type": "stream",
     "text": [
      "V4 climbers: n=52, r=0.14312467376448354, p=0.31143246635313915\n",
      "V5 climbers: n=48, r=0.17627953024193913, p=0.23071457293899217\n",
      "V6 climbers: n=41, r=0.14376621397197403, p=0.36984938749844515\n",
      "V7 climbers: n=38, r=0.12089140739439641, p=0.46968692769624615\n",
      "V8 climbers: n=25, r=0.14817642649137813, p=0.4796480136509689\n",
      "V9 climbers: n=16, r=0.12291749069008029, p=0.650179189713133\n",
      "V10 climbers: n=10, r=-0.018187163220902313, p=0.9602287374508444\n",
      "V11 climbers: n=5, r=-0.18898223650461388, p=0.7608203755145105\n",
      "V12 climbers: n=3, r=0.4999999999999999, p=0.666666666666667\n",
      "V13 climbers: n=2, r=-1.0, p=1.0\n"
     ]
    },
    {
     "data": {
      "text/plain": [
       "<matplotlib.collections.PathCollection at 0x7f58fc488c40>"
      ]
     },
     "execution_count": 7,
     "metadata": {},
     "output_type": "execute_result"
    },
    {
     "data": {
      "image/png": "[encoded data removed]",
      "text/plain": [
       "<Figure size 640x480 with 1 Axes>"
      ]
     },
     "metadata": {},
     "output_type": "display_data"
    }
   ],
   "source": [
    "from matplotlib import pyplot as plt\n",
    "from scipy.stats import pearsonr, chisquare\n",
    "\n",
    "responses = all_responses\n",
    "advanced_responses = [r for r in all_responses if r.max_climbed > 9]\n",
    "for i in range(3, 13):\n",
    "    resps = [r for r in all_responses if r.max_climbed > i]\n",
    "    calibs = [r.perc_calibration_correct() for r in resps]\n",
    "    gener = [r.perc_generated_correct() for r in resps]\n",
    "    n = len(resps)\n",
    "    r, p = pearsonr(calibs, gener)\n",
    "    print(f'V{i+1} climbers: n={n}, r={r}, p={p}')\n",
    "\n",
    "calibs = [r.perc_calibration_correct() for r in responses]\n",
    "gener = [r.perc_generated_correct() for r in responses]\n",
    "\n",
    "# advanced_calibs = [r.perc_calibration_correct() for r in advanced_responses]\n",
    "# advanced_generated = [r.perc_generated_correct() for r in advanced_responses]\n",
    "\n",
    "# g_calibs = [r.perc_calibrated_gradeable() for r in responses]\n",
    "# g_generated = [r.perc_generated_gradeable() for r in responses]\n",
    "\n",
    "\n",
    "\n",
    "plt.xlabel('Benchmarks Correct (%)')\n",
    "plt.ylabel('Generated Correct (%)')\n",
    "plt.scatter(calibs, gener, label='Any Level')\n",
    "# plt.scatter(advanced_calibs, advanced_generated, label='Advanced Climbers')\n",
    "# plt.legend()\n",
    "# # plt.scatter(g_calibs, g_generated)\n",
    "\n",
    "# # g_r = pearsonr(g_calibs, g_generated)\n",
    "# # print(f'pearson r for gradeable: r = {g_r[0]}, p = {g_r[1]}')\n",
    "\n",
    "\n",
    "# print(f'Num responses: {len(responses)}')\n",
    "# print(f'Num advanced responses: {len(advanced_responses)}')\n",
    "\n",
    "# r = pearsonr(calibs, gener)\n",
    "# print(f'pearson r for all: r = {r[0]}, p = {r[1]}')\n",
    "\n",
    "# ar = pearsonr(advanced_calibs, advanced_generated)\n",
    "# print(f'pearson r for advanced: r = {ar[0]}, p = {ar[1]}')\n",
    "\n",
    "# plot points of varying intensity for overlapping in the plot\n",
    "# can say that going to +-3 gives statistically significant results\n"
   ]
  },
  {
   "cell_type": "code",
   "execution_count": null,
   "metadata": {},
   "outputs": [
    {
     "name": "stdout",
     "output_type": "stream",
     "text": [
      "10 valid responses\n",
      "16 reliable responses\n",
      "Calibration: [(10, 0.5), (10, 0.5), (10, 0.5), (9, 0.7142857142857143), (7, 0.8), (7, 0.6), (7, 0.6), (7, 0.6), (7, 0.6), (6, 0.75), (5, 1.0), (5, 0.6666666666666666), (4, 1.0), (4, 1.0), (4, 0.5), (4, 0.5)]\n",
      "Generated: [(10, 0.4375), (10, 0.3125), (10, 0.125), (9, 0.5), (7, 0.6), (7, 0.3), (7, 0.2), (7, 0.1), (7, 0.1), (6, 0.125), (5, 0.8333333333333334), (5, 0.6666666666666666), (4, 0.25), (4, 0.25), (4, 0.0), (4, 0.0)]\n",
      "0.3\n"
     ]
    }
   ],
   "source": [
    "from statistics import mean\n",
    "from image_link_mapping import IMAGE_LINKS\n",
    "from survey_response import SurveyResponse\n",
    "from collections import defaultdict\n",
    "path = '/home/tyebkhad/GeneticBoulders/user_study/Evolving MoonBoard Routes_February 20, 2023_20.45.csv'\n",
    "\n",
    "print(len(responses), 'valid responses')\n",
    "\n",
    "print(len(reliable_responses), 'reliable responses')\n",
    "calib_percs = sorted([(r.max_climbed, r.perc_calibrated_gradeable()) for r in reliable_responses], reverse=True)\n",
    "gen_percs = sorted([(r.max_climbed, r.perc_generated_gradeable()) for r in reliable_responses], reverse=True)\n",
    "print('Calibration:', calib_percs)\n",
    "print('Generated:', gen_percs)\n",
    "print(mean(i[1] for i in gen_percs))\n",
    "\n",
    "# look at correlation between max grade and being accurate\n",
    "# \n",
    "\n",
    "# print(sorted((r.max_gradeable() for r in responses), reverse=True))\n",
    "# percs = [r.perc_calibrated_gradeable() for r in responses]\n",
    "# print(sorted(percs, reverse=True))\n",
    "# for resp in responses:\n",
    "#     print(resp.perc_calibrated_gradeable())\n",
    "\n",
    "# got_v4 = []\n",
    "# for item in valid_res:\n",
    "#     v4_resp = item['17_Q10']\n",
    "#     if 'V4' in v4_resp or 'V5' in v4_resp:\n",
    "#         got_v4.append(item)\n",
    "# print(len(got_v4))\n",
    "# for r in got_v4:\n",
    "#     print(r)"
   ]
  },
  {
   "attachments": {},
   "cell_type": "markdown",
   "metadata": {},
   "source": [
    "## Recording\n",
    "- 52 valid responses\n",
    "### Allowing +- 1 in grade\n",
    "- 16 responses with >= 50% correct calibration at or below their max climbing grade\n",
    "    - these responses agreed with predicted grade 30% of the time\n",
    "### Allowing +- 2 in grade\n",
    "- 35 responses with >= 50% correct calib at or below max\n",
    "    - these responses agreed with predicted grade about 55% of the time\n",
    "### allowing +- 3\n",
    "- 47 response are valid \n",
    "    - agree 71% of the time\n"
   ]
  }
 ],
 "metadata": {
  "kernelspec": {
   "display_name": "Python 3",
   "language": "python",
   "name": "python3"
  },
  "language_info": {
   "codemirror_mode": {
    "name": "ipython",
    "version": 3
   },
   "file_extension": ".py",
   "mimetype": "text/x-python",
   "name": "python",
   "nbconvert_exporter": "python",
   "pygments_lexer": "ipython3",
   "version": "3.8.10"
  },
  "orig_nbformat": 4,
  "vscode": {
   "interpreter": {
    "hash": "31f2aee4e71d21fbe5cf8b01ff0e069b9275f58929596ceb00d14d90e3e16cd6"
   }
  }
 },
 "nbformat": 4,
 "nbformat_minor": 2
}
