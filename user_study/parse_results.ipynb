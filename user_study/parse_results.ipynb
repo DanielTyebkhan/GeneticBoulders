{
 "cells": [
  {
   "cell_type": "code",
   "execution_count": 1,
   "metadata": {},
   "outputs": [],
   "source": [
    "from csv import DictReader\n",
    "\n",
    "def read_valid_results(path):\n",
    "    valid_res = []\n",
    "    with open(path, 'r') as file:\n",
    "        reader = DictReader(file)\n",
    "        next(reader)\n",
    "        next(reader)\n",
    "        for item in reader:\n",
    "            if item['Status'] != 'Survey Preview' and item['Q6'] != '': #and item['Screen 1'] == 'Yes' and item['Screen 2'] == '40':\n",
    "                valid_res.append(item)\n",
    "    return valid_res"
   ]
  },
  {
   "cell_type": "code",
   "execution_count": 2,
   "metadata": {},
   "outputs": [
    {
     "ename": "TypeError",
     "evalue": "function() argument 'code' must be code, not str",
     "output_type": "error",
     "traceback": [
      "\u001b[0;31m---------------------------------------------------------------------------\u001b[0m",
      "\u001b[0;31mTypeError\u001b[0m                                 Traceback (most recent call last)",
      "Cell \u001b[0;32mIn [2], line 2\u001b[0m\n\u001b[1;32m      1\u001b[0m \u001b[39mfrom\u001b[39;00m \u001b[39mimage_link_mapping\u001b[39;00m \u001b[39mimport\u001b[39;00m IMAGE_LINKS\n\u001b[0;32m----> 2\u001b[0m \u001b[39mfrom\u001b[39;00m \u001b[39mstructures\u001b[39;00m \u001b[39mimport\u001b[39;00m SurveyResponse\n\u001b[1;32m      3\u001b[0m path \u001b[39m=\u001b[39m \u001b[39m'\u001b[39m\u001b[39m/home/daniel/GeneticBoulders/user_study/Evolving MoonBoard Routes_February 20, 2023_20.45.csv\u001b[39m\u001b[39m'\u001b[39m\n\u001b[1;32m      4\u001b[0m valid_res \u001b[39m=\u001b[39m read_valid_results(path)\n",
      "File \u001b[0;32m~/GeneticBoulders/user_study/structures.py:6\u001b[0m\n\u001b[1;32m      2\u001b[0m \u001b[39mfrom\u001b[39;00m \u001b[39mtyping\u001b[39;00m \u001b[39mimport\u001b[39;00m Dict, List\n\u001b[1;32m      4\u001b[0m \u001b[39mfrom\u001b[39;00m \u001b[39mimage_link_mapping\u001b[39;00m \u001b[39mimport\u001b[39;00m IMAGE_LINKS\n\u001b[0;32m----> 6\u001b[0m \u001b[39mclass\u001b[39;00m \u001b[39mSurveyResponse\u001b[39;00m(dataclass):\n\u001b[1;32m      7\u001b[0m     calibrations: List[Dict[\u001b[39mstr\u001b[39m, \u001b[39mbool\u001b[39m]]\n\u001b[1;32m      8\u001b[0m     generated: List[Dict[\u001b[39mstr\u001b[39m, \u001b[39mbool\u001b[39m]]\n",
      "\u001b[0;31mTypeError\u001b[0m: function() argument 'code' must be code, not str"
     ]
    }
   ],
   "source": [
    "from image_link_mapping import IMAGE_LINKS\n",
    "path = '/home/daniel/GeneticBoulders/user_study/Evolving MoonBoard Routes_February 20, 2023_20.45.csv'\n",
    "valid_res = read_valid_results(path)\n",
    "calibration_indices = [i for i, v in enumerate(IMAGE_LINKS) if 'calibrate' in v]\n",
    "\n",
    "responses = [SurveyResponse(res) for res in valid_res]\n",
    "\n",
    "correct_calibrations = [0 for i in range(len(valid_res))]\n",
    "for index in calibration_indices:\n",
    "    grade = IMAGE_LINKS[index].split('_')[0]\n",
    "    num = int(grade[1:])\n",
    "    bot = max(4, num - 1)\n",
    "    top = min(13, num + 1)\n",
    "    question = f'{index + 1}_Q10'\n",
    "    for i, resp in enumerate(valid_res):\n",
    "        ans = int(resp[question].split()[0][1:])\n",
    "        if bot <= ans <= top:\n",
    "            correct_calibrations[i] += 1\n",
    "print(min(correct_calibrations), max(correct_calibrations))\n",
    "for c in correct_calibrations:\n",
    "    print(c)\n",
    "\n",
    "# got_v4 = []\n",
    "# for item in valid_res:\n",
    "#     v4_resp = item['17_Q10']\n",
    "#     if 'V4' in v4_resp or 'V5' in v4_resp:\n",
    "#         got_v4.append(item)\n",
    "# print(len(got_v4))\n",
    "# for r in got_v4:\n",
    "#     print(r)"
   ]
  }
 ],
 "metadata": {
  "kernelspec": {
   "display_name": "Python 3",
   "language": "python",
   "name": "python3"
  },
  "language_info": {
   "codemirror_mode": {
    "name": "ipython",
    "version": 3
   },
   "file_extension": ".py",
   "mimetype": "text/x-python",
   "name": "python",
   "nbconvert_exporter": "python",
   "pygments_lexer": "ipython3",
   "version": "3.8.10"
  },
  "orig_nbformat": 4,
  "vscode": {
   "interpreter": {
    "hash": "31f2aee4e71d21fbe5cf8b01ff0e069b9275f58929596ceb00d14d90e3e16cd6"
   }
  }
 },
 "nbformat": 4,
 "nbformat_minor": 2
}
