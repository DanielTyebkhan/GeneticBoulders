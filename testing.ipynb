{
 "cells": [
  {
   "cell_type": "code",
   "execution_count": 6,
   "metadata": {},
   "outputs": [],
   "source": [
    "from structs import MoonboardRoute\n",
    "from MoonBoardRNN.BetaMove.preprocessing_helper import generate_organized_sequence_data"
   ]
  },
  {
   "cell_type": "code",
   "execution_count": 8,
   "metadata": {},
   "outputs": [
    {
     "name": "stdout",
     "output_type": "stream",
     "text": [
      "data with key first contains error\n",
      "result saved.\n",
      "MoonboardRoute(holds=[MoonBoardRouteHold(row=7, col='C', is_start=False, is_end=False), MoonBoardRouteHold(row=9, col='D', is_start=False, is_end=False), MoonBoardRouteHold(row=11, col='B', is_start=False, is_end=False), MoonBoardRouteHold(row=13, col='E', is_start=False, is_end=False), MoonBoardRouteHold(row=15, col='B', is_start=False, is_end=False), MoonBoardRouteHold(row=18, col='D', is_start=False, is_end=False), MoonBoardRouteHold(row=5, col='F', is_start=True, is_end=False), MoonBoardRouteHold(row=18, col='D', is_start=False, is_end=True)], id=UUID('26d2b7ba-4e19-11ed-a0a2-3065ecc711c3'))\n",
      "{'X_dict_seq': {}, 'list_fail': ['first']}\n"
     ]
    }
   ],
   "source": [
    "# Test Route - PULL YASELF UP! YAY, V4 set by Hoseok Lee\n",
    "start_holds = ['F5']\n",
    "end_hold = 'D18'\n",
    "others = ['C7', 'D9', 'B11', 'E13', 'B15', 'D18']\n",
    "route = MoonboardRoute.from_hold_strings(others, start_holds, end_hold)\n",
    "xd = {'first': {route.get_id_str(): route.to_dict()}}\n",
    "seq = generate_organized_sequence_data(xd, './temp')\n",
    "print(route)\n",
    "print(seq)\n",
    "\n"
   ]
  },
  {
   "cell_type": "code",
   "execution_count": null,
   "metadata": {},
   "outputs": [],
   "source": []
  }
 ],
 "metadata": {
  "kernelspec": {
   "display_name": "Python 3.8.5 64-bit",
   "language": "python",
   "name": "python3"
  },
  "language_info": {
   "codemirror_mode": {
    "name": "ipython",
    "version": 3
   },
   "file_extension": ".py",
   "mimetype": "text/x-python",
   "name": "python",
   "nbconvert_exporter": "python",
   "pygments_lexer": "ipython3",
   "version": "3.8.5"
  },
  "orig_nbformat": 4,
  "vscode": {
   "interpreter": {
    "hash": "9650cb4e16cdd4a8e8e2d128bf38d875813998db22a3c986335f89e0cb4d7bb2"
   }
  }
 },
 "nbformat": 4,
 "nbformat_minor": 2
}
