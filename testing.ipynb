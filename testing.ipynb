{
 "cells": [
  {
   "cell_type": "code",
   "execution_count": 1,
   "metadata": {},
   "outputs": [
    {
     "ename": "ImportError",
     "evalue": "cannot import name 'find_route_beta' from 'MoonBoardRNN.BetaMove.BetaMove' (/home/daniel/GeneticBoulders/MoonBoardRNN/BetaMove/BetaMove.py)",
     "output_type": "error",
     "traceback": [
      "\u001b[0;31m---------------------------------------------------------------------------\u001b[0m",
      "\u001b[0;31mImportError\u001b[0m                               Traceback (most recent call last)",
      "Cell \u001b[0;32mIn [1], line 3\u001b[0m\n\u001b[1;32m      1\u001b[0m \u001b[39mfrom\u001b[39;00m \u001b[39mstructs\u001b[39;00m \u001b[39mimport\u001b[39;00m MoonboardRoute\n\u001b[1;32m      2\u001b[0m \u001b[39mfrom\u001b[39;00m \u001b[39mMoonBoardRNN\u001b[39;00m\u001b[39m.\u001b[39;00m\u001b[39mBetaMove\u001b[39;00m\u001b[39m.\u001b[39;00m\u001b[39mpreprocessing_helper\u001b[39;00m \u001b[39mimport\u001b[39;00m generate_organized_sequence_data\n\u001b[0;32m----> 3\u001b[0m \u001b[39mfrom\u001b[39;00m \u001b[39mMoonBoardRNN\u001b[39;00m\u001b[39m.\u001b[39;00m\u001b[39mBetaMove\u001b[39;00m\u001b[39m.\u001b[39;00m\u001b[39mBetaMove\u001b[39;00m \u001b[39mimport\u001b[39;00m find_route_beta\n",
      "\u001b[0;31mImportError\u001b[0m: cannot import name 'find_route_beta' from 'MoonBoardRNN.BetaMove.BetaMove' (/home/daniel/GeneticBoulders/MoonBoardRNN/BetaMove/BetaMove.py)"
     ]
    }
   ],
   "source": [
    "from structs import MoonboardRoute\n",
    "from MoonBoardRNN.BetaMove.preprocessing_helper import generate_organized_sequence_data\n",
    "from MoonBoardRNN.BetaMove.BetaMove import route_to_x_vectors"
   ]
  },
  {
   "cell_type": "code",
   "execution_count": 8,
   "metadata": {},
   "outputs": [
    {
     "name": "stdout",
     "output_type": "stream",
     "text": [
      "MoonboardRoute(holds=[MoonBoardRouteHold(row=6, col=2, is_start=False, is_end=False), MoonBoardRouteHold(row=8, col=3, is_start=False, is_end=False), MoonBoardRouteHold(row=10, col=1, is_start=False, is_end=False), MoonBoardRouteHold(row=12, col=4, is_start=False, is_end=False), MoonBoardRouteHold(row=14, col=1, is_start=False, is_end=False), MoonBoardRouteHold(row=17, col=3, is_start=False, is_end=False), MoonBoardRouteHold(row=4, col=5, is_start=True, is_end=False), MoonBoardRouteHold(row=17, col=3, is_start=False, is_end=True)], id=UUID('d7cb4a3e-4e5a-11ed-b585-75fef8b24d54'))\n",
      "[[ 0.  0.  1.  0.  1.  2.  5.  2.]\n",
      " [ 1.  0.  5.  3.  3.  6.  4.  6.]\n",
      " [ 3.  1.  3.  6.  5.  8.  9.  8.]\n",
      " [ 1.  5.  3.  3.  4.  6.  4.  6.]\n",
      " [ 0.  1.  0.  0.  1.  2.  1.  2.]\n",
      " [ 0.  0.  0.  0.  0.  0.  1.  0.]\n",
      " [ 2.  3.  1.  4.  1.  3.  5.  3.]\n",
      " [ 6.  8. 10. 12. 14. 17.  4. 17.]\n",
      " [ 1.  0.  0.  0.  0.  0.  0.  0.]\n",
      " [ 0.  0.  0.  0.  0.  0.  0.  1.]]\n"
     ]
    }
   ],
   "source": [
    "# Test Route - PULL YASELF UP! YAY, V4 set by Hoseok Lee\n",
    "start_holds = ['F5']\n",
    "end_hold = 'D18'\n",
    "others = ['C7', 'D9', 'B11', 'E13', 'B15', 'D18']\n",
    "route = MoonboardRoute.from_hold_strings(others, start_holds, end_hold)\n",
    "x_vectors = route_to_x_vectors(route)\n",
    "print(route)\n",
    "print(x_vectors)\n",
    "\n"
   ]
  }
 ],
 "metadata": {
  "kernelspec": {
   "display_name": "Python 3.8.10 64-bit",
   "language": "python",
   "name": "python3"
  },
  "language_info": {
   "codemirror_mode": {
    "name": "ipython",
    "version": 3
   },
   "file_extension": ".py",
   "mimetype": "text/x-python",
   "name": "python",
   "nbconvert_exporter": "python",
   "pygments_lexer": "ipython3",
   "version": "3.8.10"
  },
  "orig_nbformat": 4,
  "vscode": {
   "interpreter": {
    "hash": "31f2aee4e71d21fbe5cf8b01ff0e069b9275f58929596ceb00d14d90e3e16cd6"
   }
  }
 },
 "nbformat": 4,
 "nbformat_minor": 2
}
