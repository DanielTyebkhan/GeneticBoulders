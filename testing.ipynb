{
 "cells": [
  {
   "cell_type": "code",
   "execution_count": 1,
   "metadata": {},
   "outputs": [],
   "source": [
    "from structs import MoonBoardRoute\n",
    "from MoonBoardRNN.BetaMove.preprocessing_helper import generate_organized_sequence_data\n",
    "from MoonBoardRNN.BetaMove.BetaMove import route_to_x_vectors"
   ]
  },
  {
   "cell_type": "code",
   "execution_count": 2,
   "metadata": {},
   "outputs": [
    {
     "ename": "ValueError",
     "evalue": "invalid literal for int() with base 10: ''",
     "output_type": "error",
     "traceback": [
      "\u001b[0;31m---------------------------------------------------------------------------\u001b[0m",
      "\u001b[0;31mValueError\u001b[0m                                Traceback (most recent call last)",
      "\u001b[1;32m/home/tyebkhad/GeneticBoulders/testing.ipynb Cell 2\u001b[0m in \u001b[0;36m<cell line: 5>\u001b[0;34m()\u001b[0m\n\u001b[1;32m      <a href='vscode-notebook-cell:/home/tyebkhad/GeneticBoulders/testing.ipynb#W4sZmlsZQ%3D%3D?line=2'>3</a>\u001b[0m end_hold \u001b[39m=\u001b[39m \u001b[39m'\u001b[39m\u001b[39mD18\u001b[39m\u001b[39m'\u001b[39m\n\u001b[1;32m      <a href='vscode-notebook-cell:/home/tyebkhad/GeneticBoulders/testing.ipynb#W4sZmlsZQ%3D%3D?line=3'>4</a>\u001b[0m others \u001b[39m=\u001b[39m [\u001b[39m'\u001b[39m\u001b[39mC7\u001b[39m\u001b[39m'\u001b[39m, \u001b[39m'\u001b[39m\u001b[39mD9\u001b[39m\u001b[39m'\u001b[39m, \u001b[39m'\u001b[39m\u001b[39mB11\u001b[39m\u001b[39m'\u001b[39m, \u001b[39m'\u001b[39m\u001b[39mE13\u001b[39m\u001b[39m'\u001b[39m, \u001b[39m'\u001b[39m\u001b[39mB15\u001b[39m\u001b[39m'\u001b[39m, \u001b[39m'\u001b[39m\u001b[39mD18\u001b[39m\u001b[39m'\u001b[39m]\n\u001b[0;32m----> <a href='vscode-notebook-cell:/home/tyebkhad/GeneticBoulders/testing.ipynb#W4sZmlsZQ%3D%3D?line=4'>5</a>\u001b[0m route \u001b[39m=\u001b[39m MoonBoardRoute\u001b[39m.\u001b[39;49mfrom_hold_strings(others, start_holds, end_hold)\n\u001b[1;32m      <a href='vscode-notebook-cell:/home/tyebkhad/GeneticBoulders/testing.ipynb#W4sZmlsZQ%3D%3D?line=5'>6</a>\u001b[0m x_vectors \u001b[39m=\u001b[39m route_to_x_vectors(route)\n\u001b[1;32m      <a href='vscode-notebook-cell:/home/tyebkhad/GeneticBoulders/testing.ipynb#W4sZmlsZQ%3D%3D?line=6'>7</a>\u001b[0m \u001b[39mprint\u001b[39m(route)\n",
      "File \u001b[0;32m~/GeneticBoulders/structs.py:65\u001b[0m, in \u001b[0;36mMoonBoardRoute.from_hold_strings\u001b[0;34m(start, mid, end)\u001b[0m\n\u001b[1;32m     63\u001b[0m start_holds \u001b[39m=\u001b[39m MoonBoardHold\u001b[39m.\u001b[39mfrom_string_list(start)\n\u001b[1;32m     64\u001b[0m mid_holds \u001b[39m=\u001b[39m MoonBoardHold\u001b[39m.\u001b[39mfrom_string_list(mid)\n\u001b[0;32m---> 65\u001b[0m end_holds \u001b[39m=\u001b[39m MoonBoardHold\u001b[39m.\u001b[39;49mfrom_string_list(end)\n\u001b[1;32m     66\u001b[0m \u001b[39mreturn\u001b[39;00m MoonBoardRoute(start_holds, mid_holds, end_holds)\n",
      "File \u001b[0;32m~/GeneticBoulders/structs.py:36\u001b[0m, in \u001b[0;36mMoonBoardHold.from_string_list\u001b[0;34m(strlist)\u001b[0m\n\u001b[1;32m     35\u001b[0m \u001b[39mdef\u001b[39;00m \u001b[39mfrom_string_list\u001b[39m(strlist: List[\u001b[39mstr\u001b[39m]):\n\u001b[0;32m---> 36\u001b[0m     \u001b[39mreturn\u001b[39;00m [MoonBoardHold\u001b[39m.\u001b[39mfrom_string(s) \u001b[39mfor\u001b[39;00m s \u001b[39min\u001b[39;00m strlist]\n",
      "File \u001b[0;32m~/GeneticBoulders/structs.py:36\u001b[0m, in \u001b[0;36m<listcomp>\u001b[0;34m(.0)\u001b[0m\n\u001b[1;32m     35\u001b[0m \u001b[39mdef\u001b[39;00m \u001b[39mfrom_string_list\u001b[39m(strlist: List[\u001b[39mstr\u001b[39m]):\n\u001b[0;32m---> 36\u001b[0m     \u001b[39mreturn\u001b[39;00m [MoonBoardHold\u001b[39m.\u001b[39;49mfrom_string(s) \u001b[39mfor\u001b[39;00m s \u001b[39min\u001b[39;00m strlist]\n",
      "File \u001b[0;32m~/GeneticBoulders/structs.py:33\u001b[0m, in \u001b[0;36mMoonBoardHold.from_string\u001b[0;34m(coords)\u001b[0m\n\u001b[1;32m     32\u001b[0m \u001b[39mdef\u001b[39;00m \u001b[39mfrom_string\u001b[39m(coords: \u001b[39mstr\u001b[39m):\n\u001b[0;32m---> 33\u001b[0m     \u001b[39mreturn\u001b[39;00m MoonBoardHold(row\u001b[39m=\u001b[39mmoonboard_row_to_index(\u001b[39mint\u001b[39;49m(coords[\u001b[39m1\u001b[39;49m:])), col\u001b[39m=\u001b[39mmoonboard_col_to_index(coords[\u001b[39m0\u001b[39m]))\n",
      "\u001b[0;31mValueError\u001b[0m: invalid literal for int() with base 10: ''"
     ]
    }
   ],
   "source": [
    "# Test Route - PULL YASELF UP! YAY, V4 set by Hoseok Lee\n",
    "start_holds = ['F5']\n",
    "end_holds = ['D18']\n",
    "others = ['C7', 'D9', 'B11', 'E13', 'B15', 'D18']\n",
    "route = MoonBoardRoute.from_hold_strings(others, start_holds, end_holds)\n",
    "x_vectors = route_to_x_vectors(route)\n",
    "print(route)\n",
    "print(route.starting_holds())\n",
    "print(route.ending_holds())\n",
    "#print(x_vectors)\n",
    "\n"
   ]
  }
 ],
 "metadata": {
  "kernelspec": {
   "display_name": "Python 3.8.10 64-bit",
   "language": "python",
   "name": "python3"
  },
  "language_info": {
   "codemirror_mode": {
    "name": "ipython",
    "version": 3
   },
   "file_extension": ".py",
   "mimetype": "text/x-python",
   "name": "python",
   "nbconvert_exporter": "python",
   "pygments_lexer": "ipython3",
   "version": "3.8.10"
  },
  "orig_nbformat": 4,
  "vscode": {
   "interpreter": {
    "hash": "e7370f93d1d0cde622a1f8e1c04877d8463912d04d973331ad4851f04de6915a"
   }
  }
 },
 "nbformat": 4,
 "nbformat_minor": 2
}
