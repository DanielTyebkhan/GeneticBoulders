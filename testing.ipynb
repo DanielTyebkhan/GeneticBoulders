{
 "cells": [
  {
   "cell_type": "code",
   "execution_count": 1,
   "metadata": {},
   "outputs": [
    {
     "name": "stderr",
     "output_type": "stream",
     "text": [
      "2022-10-24 11:01:13.357074: I tensorflow/core/platform/cpu_feature_guard.cc:193] This TensorFlow binary is optimized with oneAPI Deep Neural Network Library (oneDNN) to use the following CPU instructions in performance-critical operations:  AVX2 FMA\n",
      "To enable them in other operations, rebuild TensorFlow with the appropriate compiler flags.\n",
      "2022-10-24 11:01:13.803942: W tensorflow/stream_executor/platform/default/dso_loader.cc:64] Could not load dynamic library 'libcudart.so.11.0'; dlerror: libcudart.so.11.0: cannot open shared object file: No such file or directory\n",
      "2022-10-24 11:01:13.804021: I tensorflow/stream_executor/cuda/cudart_stub.cc:29] Ignore above cudart dlerror if you do not have a GPU set up on your machine.\n",
      "2022-10-24 11:01:13.915624: E tensorflow/stream_executor/cuda/cuda_blas.cc:2981] Unable to register cuBLAS factory: Attempting to register factory for plugin cuBLAS when one has already been registered\n",
      "2022-10-24 11:01:15.511594: W tensorflow/stream_executor/platform/default/dso_loader.cc:64] Could not load dynamic library 'libnvinfer.so.7'; dlerror: libnvinfer.so.7: cannot open shared object file: No such file or directory\n",
      "2022-10-24 11:01:15.511662: W tensorflow/stream_executor/platform/default/dso_loader.cc:64] Could not load dynamic library 'libnvinfer_plugin.so.7'; dlerror: libnvinfer_plugin.so.7: cannot open shared object file: No such file or directory\n",
      "2022-10-24 11:01:15.511669: W tensorflow/compiler/tf2tensorrt/utils/py_utils.cc:38] TF-TRT Warning: Cannot dlopen some TensorRT libraries. If you would like to use Nvidia GPU with TensorRT, please make sure the missing libraries mentioned above are installed properly.\n"
     ]
    }
   ],
   "source": [
    "from MoonBoardRNN.BetaMove.BetaMove import route_to_x_vectors\n",
    "from MoonBoardRNN.GradeNet.grade_net import GradeNet\n",
    "from MoonBoardRNN.BetaMove.BetaMove import classify_and_reorganize_data_ga\n",
    "from MoonBoardRNN.BetaMove.BetaMove import x_vectors_to_matrix\n",
    "from MoonBoardRNN.BetaMove.BetaMove import produce_sequence"
   ]
  },
  {
   "cell_type": "code",
   "execution_count": 1,
   "metadata": {},
   "outputs": [
    {
     "name": "stdout",
     "output_type": "stream",
     "text": [
      "MoonBoardRoute(mid_holds=[MoonBoardHold(row=9, col=3), MoonBoardHold(row=1, col=2), MoonBoardHold(row=8, col=5), MoonBoardHold(row=7, col=0), MoonBoardHold(row=5, col=0), MoonBoardHold(row=11, col=4), MoonBoardHold(row=15, col=8)], start_holds=[MoonBoardHold(row=0, col=2)], end_holds=[MoonBoardHold(row=17, col=4)], id=UUID('f0d8da60-53ae-11ed-a652-2593e1076388'))\n",
      "[1, 2, -1, 1, 191, -1, 7, 102, 13, 93, 77, 55, 125, 173, -1, -1, -1]\n",
      "MoonBoardRoute(mid_holds=[MoonBoardHold(row=9, col=3), MoonBoardHold(row=1, col=2), MoonBoardHold(row=8, col=5), MoonBoardHold(row=7, col=0), MoonBoardHold(row=5, col=0), MoonBoardHold(row=11, col=4), MoonBoardHold(row=15, col=8)], start_holds=[MoonBoardHold(row=0, col=2)], end_holds=[MoonBoardHold(row=17, col=4)], id=UUID('f0d8da61-53ae-11ed-a652-2593e1076388'))\n",
      "False\n"
     ]
    }
   ],
   "source": [
    "from share.moonboard_util import MoonBoardRoute\n",
    "from MapElites.me_utils import *\n",
    "\n",
    "rand_route = MoonBoardRoute.make_random_valid()\n",
    "params = route_to_ME_params(rand_route)\n",
    "deparasm = ME_params_to_route(params)\n",
    "print(rand_route)\n",
    "print(params)\n",
    "print(deparasm)\n",
    "print(deparasm == rand_route)"
   ]
  },
  {
   "cell_type": "code",
   "execution_count": 1,
   "metadata": {},
   "outputs": [
    {
     "ename": "NameError",
     "evalue": "name 'MoonBoardRoute' is not defined",
     "output_type": "error",
     "traceback": [
      "\u001b[0;31m---------------------------------------------------------------------------\u001b[0m",
      "\u001b[0;31mNameError\u001b[0m                                 Traceback (most recent call last)",
      "\u001b[1;32m/home/tyebkhad/GeneticBoulders/testing.ipynb Cell 3\u001b[0m in \u001b[0;36m<cell line: 8>\u001b[0;34m()\u001b[0m\n\u001b[1;32m      <a href='vscode-notebook-cell:/home/tyebkhad/GeneticBoulders/testing.ipynb#W2sZmlsZQ%3D%3D?line=5'>6</a>\u001b[0m end_holds \u001b[39m=\u001b[39m [\u001b[39m'\u001b[39m\u001b[39mD18\u001b[39m\u001b[39m'\u001b[39m]\n\u001b[1;32m      <a href='vscode-notebook-cell:/home/tyebkhad/GeneticBoulders/testing.ipynb#W2sZmlsZQ%3D%3D?line=6'>7</a>\u001b[0m others \u001b[39m=\u001b[39m [\u001b[39m'\u001b[39m\u001b[39mC7\u001b[39m\u001b[39m'\u001b[39m, \u001b[39m'\u001b[39m\u001b[39mD9\u001b[39m\u001b[39m'\u001b[39m, \u001b[39m'\u001b[39m\u001b[39mB11\u001b[39m\u001b[39m'\u001b[39m, \u001b[39m'\u001b[39m\u001b[39mE13\u001b[39m\u001b[39m'\u001b[39m, \u001b[39m'\u001b[39m\u001b[39mB15\u001b[39m\u001b[39m'\u001b[39m, \u001b[39m'\u001b[39m\u001b[39mD18\u001b[39m\u001b[39m'\u001b[39m]\n\u001b[0;32m----> <a href='vscode-notebook-cell:/home/tyebkhad/GeneticBoulders/testing.ipynb#W2sZmlsZQ%3D%3D?line=7'>8</a>\u001b[0m route \u001b[39m=\u001b[39m MoonBoardRoute\u001b[39m.\u001b[39mfrom_hold_strings(start_holds\u001b[39m=\u001b[39mstart_holds, mid_holds\u001b[39m=\u001b[39mothers, end_holds\u001b[39m=\u001b[39mend_holds)\n\u001b[1;32m      <a href='vscode-notebook-cell:/home/tyebkhad/GeneticBoulders/testing.ipynb#W2sZmlsZQ%3D%3D?line=8'>9</a>\u001b[0m \u001b[39m# x_vecs = route_to_x_vectors(route)\u001b[39;00m\n\u001b[1;32m     <a href='vscode-notebook-cell:/home/tyebkhad/GeneticBoulders/testing.ipynb#W2sZmlsZQ%3D%3D?line=9'>10</a>\u001b[0m \u001b[39m# matrix = x_vectors_to_matrix(x_vecs)\u001b[39;00m\n\u001b[1;32m     <a href='vscode-notebook-cell:/home/tyebkhad/GeneticBoulders/testing.ipynb#W2sZmlsZQ%3D%3D?line=11'>12</a>\u001b[0m \u001b[39mprint\u001b[39m(\u001b[39m'\u001b[39m\u001b[39m'\u001b[39m)\n",
      "\u001b[0;31mNameError\u001b[0m: name 'MoonBoardRoute' is not defined"
     ]
    }
   ],
   "source": [
    "# Test Route - PULL YASELF UP! YAY, V4 set by Hoseok Lee\n",
    "\n",
    "from share.moonboard_util import MoonBoardRoute\n",
    "\n",
    "start_holds = ['F5']\n",
    "end_holds = ['D18']\n",
    "others = ['C7', 'D9', 'B11', 'E13', 'B15', 'D18']\n",
    "route = MoonBoardRoute.from_hold_strings(start_holds=start_holds, mid_holds=others, end_holds=end_holds)\n",
    "# x_vecs = route_to_x_vectors(route)\n",
    "# matrix = x_vectors_to_matrix(x_vecs)\n",
    "\n",
    "print('')\n",
    "# x_vectors = route_to_x_vectors(route)\n",
    "net = GradeNet()\n",
    "grade = net.grade_route(route)\n",
    "print(grade)\n",
    "#print(x_vectors)\n",
    "\n"
   ]
  }
 ],
 "metadata": {
  "kernelspec": {
   "display_name": "Python 3.8.10 64-bit",
   "language": "python",
   "name": "python3"
  },
  "language_info": {
   "codemirror_mode": {
    "name": "ipython",
    "version": 3
   },
   "file_extension": ".py",
   "mimetype": "text/x-python",
   "name": "python",
   "nbconvert_exporter": "python",
   "pygments_lexer": "ipython3",
   "version": "3.8.10"
  },
  "orig_nbformat": 4,
  "vscode": {
   "interpreter": {
    "hash": "e7370f93d1d0cde622a1f8e1c04877d8463912d04d973331ad4851f04de6915a"
   }
  }
 },
 "nbformat": 4,
 "nbformat_minor": 2
}
