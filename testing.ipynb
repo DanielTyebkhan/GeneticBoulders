{
 "cells": [
  {
   "cell_type": "code",
   "execution_count": 4,
   "metadata": {},
   "outputs": [],
   "source": [
    "from MoonBoardRNN.BetaMove.BetaMove import route_to_x_vectors\n",
    "from MoonBoardRNN.GradeNet.grade_net import GradeNet\n",
    "from MoonBoardRNN.BetaMove.BetaMove import classify_and_reorganize_data_ga\n",
    "from MoonBoardRNN.BetaMove.BetaMove import x_vectors_to_matrix\n",
    "from MoonBoardRNN.BetaMove.BetaMove import produce_sequence"
   ]
  },
  {
   "cell_type": "code",
   "execution_count": 5,
   "metadata": {},
   "outputs": [
    {
     "name": "stdout",
     "output_type": "stream",
     "text": [
      "MoonBoardRoute(mid_holds=[MoonBoardHold(row=11, col=10), MoonBoardHold(row=13, col=5), MoonBoardHold(row=5, col=4)], start_holds=[MoonBoardHold(row=5, col=3)], end_holds=[MoonBoardHold(row=17, col=6)], id=UUID('29d4532f-546f-11ed-8826-b13708a5728f'))\n",
      "[58, 193, 3, 131, 148, 59, -1, -1, -1, -1]\n",
      "MoonBoardRoute(mid_holds=[MoonBoardHold(row=11, col=10), MoonBoardHold(row=13, col=5), MoonBoardHold(row=5, col=4)], start_holds=MoonBoardHold(row=5, col=3), end_holds=MoonBoardHold(row=17, col=6), id=UUID('29d45330-546f-11ed-8826-b13708a5728f'))\n"
     ]
    }
   ],
   "source": [
    "from share.moonboard_util import MoonBoardRoute\n",
    "from MapElites.me_utils import *\n",
    "\n",
    "rand_route = MoonBoardRoute.make_random_valid()\n",
    "params = route_to_ME_params(rand_route)\n",
    "deparasm = ME_params_to_route(params)\n",
    "print(rand_route)\n",
    "print(params)\n",
    "print(deparasm)"
   ]
  },
  {
   "cell_type": "code",
   "execution_count": 1,
   "metadata": {},
   "outputs": [
    {
     "name": "stderr",
     "output_type": "stream",
     "text": [
      "2022-10-25 10:38:56.135496: I tensorflow/core/platform/cpu_feature_guard.cc:193] This TensorFlow binary is optimized with oneAPI Deep Neural Network Library (oneDNN) to use the following CPU instructions in performance-critical operations:  AVX2 FMA\n",
      "To enable them in other operations, rebuild TensorFlow with the appropriate compiler flags.\n",
      "2022-10-25 10:38:56.391360: W tensorflow/stream_executor/platform/default/dso_loader.cc:64] Could not load dynamic library 'libcudart.so.11.0'; dlerror: libcudart.so.11.0: cannot open shared object file: No such file or directory\n",
      "2022-10-25 10:38:56.391405: I tensorflow/stream_executor/cuda/cudart_stub.cc:29] Ignore above cudart dlerror if you do not have a GPU set up on your machine.\n",
      "2022-10-25 10:38:56.452886: E tensorflow/stream_executor/cuda/cuda_blas.cc:2981] Unable to register cuBLAS factory: Attempting to register factory for plugin cuBLAS when one has already been registered\n",
      "2022-10-25 10:38:57.719194: W tensorflow/stream_executor/platform/default/dso_loader.cc:64] Could not load dynamic library 'libnvinfer.so.7'; dlerror: libnvinfer.so.7: cannot open shared object file: No such file or directory\n",
      "2022-10-25 10:38:57.719319: W tensorflow/stream_executor/platform/default/dso_loader.cc:64] Could not load dynamic library 'libnvinfer_plugin.so.7'; dlerror: libnvinfer_plugin.so.7: cannot open shared object file: No such file or directory\n",
      "2022-10-25 10:38:57.719332: W tensorflow/compiler/tf2tensorrt/utils/py_utils.cc:38] TF-TRT Warning: Cannot dlopen some TensorRT libraries. If you would like to use Nvidia GPU with TensorRT, please make sure the missing libraries mentioned above are installed properly.\n",
      "2022-10-25 10:38:59.381398: I tensorflow/stream_executor/cuda/cuda_gpu_executor.cc:980] successful NUMA node read from SysFS had negative value (-1), but there must be at least one NUMA node, so returning NUMA node zero\n",
      "2022-10-25 10:38:59.381739: W tensorflow/stream_executor/platform/default/dso_loader.cc:64] Could not load dynamic library 'libcudart.so.11.0'; dlerror: libcudart.so.11.0: cannot open shared object file: No such file or directory\n",
      "2022-10-25 10:38:59.381854: W tensorflow/stream_executor/platform/default/dso_loader.cc:64] Could not load dynamic library 'libcublas.so.11'; dlerror: libcublas.so.11: cannot open shared object file: No such file or directory\n",
      "2022-10-25 10:38:59.381964: W tensorflow/stream_executor/platform/default/dso_loader.cc:64] Could not load dynamic library 'libcublasLt.so.11'; dlerror: libcublasLt.so.11: cannot open shared object file: No such file or directory\n",
      "2022-10-25 10:38:59.382090: W tensorflow/stream_executor/platform/default/dso_loader.cc:64] Could not load dynamic library 'libcufft.so.10'; dlerror: libcufft.so.10: cannot open shared object file: No such file or directory\n",
      "2022-10-25 10:38:59.382183: W tensorflow/stream_executor/platform/default/dso_loader.cc:64] Could not load dynamic library 'libcurand.so.10'; dlerror: libcurand.so.10: cannot open shared object file: No such file or directory\n",
      "2022-10-25 10:38:59.382275: W tensorflow/stream_executor/platform/default/dso_loader.cc:64] Could not load dynamic library 'libcusolver.so.11'; dlerror: libcusolver.so.11: cannot open shared object file: No such file or directory\n",
      "2022-10-25 10:38:59.382382: W tensorflow/stream_executor/platform/default/dso_loader.cc:64] Could not load dynamic library 'libcusparse.so.11'; dlerror: libcusparse.so.11: cannot open shared object file: No such file or directory\n",
      "2022-10-25 10:38:59.382474: W tensorflow/stream_executor/platform/default/dso_loader.cc:64] Could not load dynamic library 'libcudnn.so.8'; dlerror: libcudnn.so.8: cannot open shared object file: No such file or directory\n",
      "2022-10-25 10:38:59.382490: W tensorflow/core/common_runtime/gpu/gpu_device.cc:1934] Cannot dlopen some GPU libraries. Please make sure the missing libraries mentioned above are installed properly if you would like to use GPU. Follow the guide at https://www.tensorflow.org/install/gpu for how to download and setup the required libraries for your platform.\n",
      "Skipping registering GPU devices...\n",
      "2022-10-25 10:38:59.382804: I tensorflow/core/platform/cpu_feature_guard.cc:193] This TensorFlow binary is optimized with oneAPI Deep Neural Network Library (oneDNN) to use the following CPU instructions in performance-critical operations:  AVX2 FMA\n",
      "To enable them in other operations, rebuild TensorFlow with the appropriate compiler flags.\n"
     ]
    },
    {
     "name": "stdout",
     "output_type": "stream",
     "text": [
      "After Beamer search, the most possible hand sequence and the successRate:\n",
      "['B6', 'B6', 'J14', 'I18']\n",
      "[0, 0, 1, 2] ['LH', 'RH', 'RH', 'LH'] [4.11753572e-06]\n",
      "1/1 [==============================] - 3s 3s/step\n",
      "After Beamer search, the most possible hand sequence and the successRate:\n",
      "['J6', 'J6', 'D17', 'E18']\n",
      "[0, 0, 2, 3] ['LH', 'RH', 'LH', 'RH'] [4.98273773e-08]\n",
      "1/1 [==============================] - 0s 24ms/step\n",
      "After Beamer search, the most possible hand sequence and the successRate:\n",
      "['G2', 'G2', 'H5', 'H7', 'C11', 'G12', 'G11', 'C12', 'I18']\n",
      "[0, 0, 1, 2, 4, 5, 3, 6, 7] ['LH', 'RH', 'LH', 'RH', 'LH', 'RH', 'RH', 'LH', 'RH'] [0.25115508]\n",
      "1/1 [==============================] - 0s 23ms/step\n",
      "After Beamer search, the most possible hand sequence and the successRate:\n",
      "['G4', 'G4', 'C5', 'C7', 'A15', 'K18']\n",
      "[0, 0, 1, 2, 3, 4] ['LH', 'RH', 'LH', 'RH', 'LH', 'RH'] [2.22106708e-05]\n",
      "1/1 [==============================] - 0s 21ms/step\n",
      "(5.0, 17.0)\n",
      "After Beamer search, the most possible hand sequence and the successRate:\n",
      "['B6', 'B6', 'F12', 'B12', 'G18']\n",
      "[0, 0, 3, 4, 6] ['LH', 'RH', 'RH', 'LH', 'RH'] [0.01601649]\n",
      "1/1 [==============================] - 0s 25ms/step\n",
      "After Beamer search, the most possible hand sequence and the successRate:\n",
      "['K5', 'K5', 'E9', 'I11', 'E9', 'B11', 'B9', 'C18']\n",
      "[0, 0, 1, 5, 2, 4, 3, 6] ['LH', 'RH', 'LH', 'RH', 'RH', 'LH', 'RH', 'RH'] [0.12944801]\n",
      "1/1 [==============================] - 0s 25ms/step\n",
      "After Beamer search, the most possible hand sequence and the successRate:\n",
      "['F5', 'F5', 'D5', 'C6', 'F15', 'A18', 'A18', 'K18']\n",
      "[0, 0, 1, 2, 3, 5, 6, 7] ['LH', 'RH', 'LH', 'LH', 'RH', 'LH', 'RH', 'RH'] [4.82194022e-05]\n",
      "1/1 [==============================] - 0s 31ms/step\n",
      "After Beamer search, the most possible hand sequence and the successRate:\n",
      "['D3', 'D3', 'J6', 'F10', 'E14', 'B15', 'C15', 'D15', 'G17', 'C18']\n",
      "[0, 0, 1, 2, 3, 4, 5, 6, 7, 8] ['LH', 'RH', 'RH', 'LH', 'RH', 'LH', 'LH', 'LH', 'RH', 'LH'] [1.09860115]\n",
      "1/1 [==============================] - 0s 21ms/step\n",
      "After Beamer search, the most possible hand sequence and the successRate:\n",
      "['D5', 'D5', 'F5', 'I7', 'J7', 'J11', 'I14', 'F15', 'A18']\n",
      "[0, 0, 2, 4, 3, 5, 6, 7, 8] ['LH', 'RH', 'LH', 'RH', 'RH', 'LH', 'RH', 'LH', 'RH'] [0.19310673]\n",
      "1/1 [==============================] - 0s 23ms/step\n",
      "(5.0, 17.0)\n",
      "After Beamer search, the most possible hand sequence and the successRate:\n",
      "['A5', 'A5', 'G7', 'H8', 'G10', 'C12', 'F15', 'A18']\n",
      "[0, 0, 1, 2, 3, 5, 6, 7] ['LH', 'RH', 'RH', 'LH', 'RH', 'LH', 'RH', 'LH'] [1.85024144]\n",
      "1/1 [==============================] - 0s 23ms/step\n",
      "After Beamer search, the most possible hand sequence and the successRate:\n",
      "['K5', 'K5', 'D10', 'B13', 'K18']\n",
      "[0, 0, 1, 2, 3] ['LH', 'RH', 'LH', 'RH', 'RH'] [1.38610451e-05]\n",
      "1/1 [==============================] - 0s 23ms/step\n",
      "(5.0, 17.0)\n",
      "After Beamer search, the most possible hand sequence and the successRate:\n",
      "['I6', 'I6', 'C11', 'I18', 'K18']\n",
      "[0, 0, 2, 3, 4] ['LH', 'RH', 'LH', 'RH', 'LH'] [0.00142463]\n",
      "1/1 [==============================] - 0s 25ms/step\n",
      "After Beamer search, the most possible hand sequence and the successRate:\n",
      "['C5', 'C5', 'F6', 'H15', 'D18', 'D18']\n",
      "[0, 0, 1, 2, 3, 4] ['LH', 'RH', 'LH', 'RH', 'LH', 'LH'] [0.00080435]\n",
      "1/1 [==============================] - 0s 25ms/step\n",
      "After Beamer search, the most possible hand sequence and the successRate:\n",
      "['C5', 'C5', 'B10', 'D18']\n",
      "[0, 0, 1, 2] ['LH', 'RH', 'LH', 'RH'] [0.00123918]\n",
      "1/1 [==============================] - 0s 24ms/step\n",
      "After Beamer search, the most possible hand sequence and the successRate:\n",
      "['C6', 'C6', 'B12', 'E13', 'D15', 'C18', 'D18']\n",
      "[0, 0, 1, 2, 3, 4, 5] ['LH', 'RH', 'LH', 'RH', 'RH', 'LH', 'RH'] [0.80133138]\n",
      "1/1 [==============================] - 0s 24ms/step\n",
      "(5.0, 17.0)\n",
      "After Beamer search, the most possible hand sequence and the successRate:\n",
      "['I4', 'I4', 'F7', 'B7', 'G13', 'H18']\n",
      "[0, 0, 1, 2, 3, 4] ['LH', 'RH', 'LH', 'RH', 'RH', 'LH'] [0.00944316]\n",
      "1/1 [==============================] - 0s 24ms/step\n",
      "After Beamer search, the most possible hand sequence and the successRate:\n",
      "['I6', 'I6', 'G8', 'G13', 'C14', 'D18']\n",
      "[0, 0, 1, 2, 3, 4] ['LH', 'RH', 'LH', 'RH', 'LH', 'RH'] [0.4965813]\n",
      "1/1 [==============================] - 0s 22ms/step\n",
      "MoonBoardRoute(mid_holds=[MoonBoardHold(row=7, col=6), MoonBoardHold(row=12, col=6), MoonBoardHold(row=13, col=2)], start_holds=[MoonBoardHold(row=5, col=8)], end_holds=[MoonBoardHold(row=17, col=3)], id=UUID('c7a7254d-5472-11ed-8826-b13708a5728f'))\n",
      "Grade: V5\n"
     ]
    },
    {
     "ename": "AttributeError",
     "evalue": "module 'cbook' has no attribute 'get_sample_data'",
     "output_type": "error",
     "traceback": [
      "\u001b[0;31m---------------------------------------------------------------------------\u001b[0m",
      "\u001b[0;31mAttributeError\u001b[0m                            Traceback (most recent call last)",
      "Cell \u001b[0;32mIn [1], line 19\u001b[0m\n\u001b[1;32m     17\u001b[0m \u001b[39mprint\u001b[39m(route)\n\u001b[1;32m     18\u001b[0m \u001b[39mprint\u001b[39m(\u001b[39mf\u001b[39m\u001b[39m'\u001b[39m\u001b[39mGrade: \u001b[39m\u001b[39m{\u001b[39;00mgrade\u001b[39m}\u001b[39;00m\u001b[39m'\u001b[39m)\n\u001b[0;32m---> 19\u001b[0m plot_problem(route\u001b[39m.\u001b[39;49mto_strings())\n",
      "File \u001b[0;32m~/GeneticBoulders/MoonBoardRNN/plotting.py:5\u001b[0m, in \u001b[0;36mplot_problem\u001b[0;34m(stringList, title, key, save)\u001b[0m\n\u001b[1;32m      4\u001b[0m \u001b[39mdef\u001b[39;00m \u001b[39mplot_problem\u001b[39m(stringList, title \u001b[39m=\u001b[39m \u001b[39mNone\u001b[39;00m, key \u001b[39m=\u001b[39m \u001b[39mNone\u001b[39;00m, save \u001b[39m=\u001b[39m \u001b[39mNone\u001b[39;00m):    \n\u001b[0;32m----> 5\u001b[0m     image_file \u001b[39m=\u001b[39m cbook\u001b[39m.\u001b[39;49mget_sample_data(\u001b[39m\"\u001b[39m\u001b[39mmoonboard2016Background.jpg\u001b[39m\u001b[39m\"\u001b[39m)\n\u001b[1;32m      6\u001b[0m     plt\u001b[39m.\u001b[39mrcParams[\u001b[39m\"\u001b[39m\u001b[39mfigure.figsize\u001b[39m\u001b[39m\"\u001b[39m] \u001b[39m=\u001b[39m (\u001b[39m30\u001b[39m,\u001b[39m10\u001b[39m)\n\u001b[1;32m      7\u001b[0m     img \u001b[39m=\u001b[39m plt\u001b[39m.\u001b[39mimread(image_file)\n",
      "\u001b[0;31mAttributeError\u001b[0m: module 'cbook' has no attribute 'get_sample_data'"
     ]
    }
   ],
   "source": [
    "# make a route with a grade?\n",
    "from share.moonboard_util import MoonBoardRoute\n",
    "from MoonBoardRNN.GradeNet.grade_net import GradeNet\n",
    "from MoonBoardRNN.plotting import plot_problem\n",
    "\n",
    "TARGET = 'V5'\n",
    "net = GradeNet()\n",
    "while True:\n",
    "    try:\n",
    "        route = MoonBoardRoute.make_random_valid()\n",
    "        grade = net.grade_route(route)\n",
    "        if grade == TARGET:\n",
    "            break\n",
    "    except Exception as ex:\n",
    "        print(ex)\n",
    "\n",
    "print(route)\n",
    "print(f'Grade: {grade}')\n",
    "plot_problem(route.to_strings())"
   ]
  },
  {
   "cell_type": "code",
   "execution_count": 7,
   "metadata": {},
   "outputs": [
    {
     "name": "stdout",
     "output_type": "stream",
     "text": [
      "\n",
      "After Beamer search, the most possible hand sequence and the successRate:\n",
      "['F5', 'F5', 'C7', 'D9', 'B11', 'E13', 'B15', 'D18']\n",
      "[0, 0, 1, 2, 3, 4, 5, 7] ['LH', 'RH', 'LH', 'RH', 'LH', 'RH', 'LH', 'RH'] [83.49613078]\n",
      "1/1 [==============================] - 3s 3s/step\n",
      "V6\n"
     ]
    }
   ],
   "source": [
    "# Test Route - PULL YASELF UP! YAY\n",
    "\n",
    "from share.moonboard_util import MoonBoardRoute\n",
    "from MoonBoardRNN.GradeNet.grade_net import GradeNet\n",
    "\n",
    "start_holds = ['F5']\n",
    "end_holds = ['D18']\n",
    "others = ['C7', 'D9', 'B11', 'E13', 'B15', 'D18']\n",
    "route = MoonBoardRoute.from_hold_strings(start_holds=start_holds, mid_holds=others, end_holds=end_holds)\n",
    "# x_vecs = route_to_x_vectors(route)\n",
    "# matrix = x_vectors_to_matrix(x_vecs)\n",
    "\n",
    "print('')\n",
    "# x_vectors = route_to_x_vectors(route)\n",
    "net = GradeNet()\n",
    "grade = net.grade_route(route)\n",
    "print(grade)\n",
    "#print(x_vectors)\n",
    "\n"
   ]
  },
  {
   "cell_type": "code",
   "execution_count": null,
   "metadata": {},
   "outputs": [],
   "source": [
    "oute(route)\n",
    "print(grade)\n",
    "#print(x_vectors)\n",
    "\n"
   ]
  }
 ],
 "metadata": {
  "kernelspec": {
   "display_name": "Python 3.8.10 64-bit",
   "language": "python",
   "name": "python3"
  },
  "language_info": {
   "codemirror_mode": {
    "name": "ipython",
    "version": 3
   },
   "file_extension": ".py",
   "mimetype": "text/x-python",
   "name": "python",
   "nbconvert_exporter": "python",
   "pygments_lexer": "ipython3",
   "version": "3.8.10"
  },
  "orig_nbformat": 4,
  "vscode": {
   "interpreter": {
    "hash": "31f2aee4e71d21fbe5cf8b01ff0e069b9275f58929596ceb00d14d90e3e16cd6"
   }
  }
 },
 "nbformat": 4,
 "nbformat_minor": 2
}
