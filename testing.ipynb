{
 "cells": [
  {
   "cell_type": "code",
   "execution_count": 1,
   "metadata": {},
   "outputs": [],
   "source": [
    "from structs import MoonboardRoute\n",
    "from MoonBoardRNN.BetaMove.preprocessing_helper import generate_organized_sequence_data\n",
    "from MoonBoardRNN.BetaMove.BetaMove import route_to_x_vectors"
   ]
  },
  {
   "cell_type": "code",
   "execution_count": 4,
   "metadata": {},
   "outputs": [
    {
     "name": "stdout",
     "output_type": "stream",
     "text": [
      "After Beamer search, the most possible hand sequence and the successRate:\n",
      "['C7', 'C7', 'D9', 'B11', 'E13', 'B15', 'D18']\n",
      "[0, 0, 1, 2, 3, 4, 7] ['LH', 'RH', 'RH', 'LH', 'RH', 'LH', 'RH'] [61.17114734]\n",
      "MoonboardRoute(holds=[MoonBoardRouteHold(row=6, col=2, is_start=False, is_end=False), MoonBoardRouteHold(row=8, col=3, is_start=False, is_end=False), MoonBoardRouteHold(row=10, col=1, is_start=False, is_end=False), MoonBoardRouteHold(row=12, col=4, is_start=False, is_end=False), MoonBoardRouteHold(row=14, col=1, is_start=False, is_end=False), MoonBoardRouteHold(row=17, col=3, is_start=False, is_end=False), MoonBoardRouteHold(row=4, col=5, is_start=True, is_end=False), MoonBoardRouteHold(row=17, col=3, is_start=False, is_end=True)], id=UUID('a7f41838-4ff7-11ed-92cc-e12144d9ac45'))\n"
     ]
    }
   ],
   "source": [
    "# Test Route - PULL YASELF UP! YAY, V4 set by Hoseok Lee\n",
    "start_holds = ['F5']\n",
    "end_hold = 'D18'\n",
    "others = ['C7', 'D9', 'B11', 'E13', 'B15', 'D18']\n",
    "route = MoonboardRoute.from_hold_strings(others, start_holds, end_hold)\n",
    "x_vectors = route_to_x_vectors(route)\n",
    "print(route)\n",
    "print(route.starting_holds())\n",
    "print(route.ending_holds())\n",
    "#print(x_vectors)\n",
    "\n"
   ]
  },
  {
   "cell_type": "code",
   "execution_count": null,
   "metadata": {},
   "outputs": [],
   "source": []
  }
 ],
 "metadata": {
  "kernelspec": {
   "display_name": "Python 3.8.10 64-bit",
   "language": "python",
   "name": "python3"
  },
  "language_info": {
   "codemirror_mode": {
    "name": "ipython",
    "version": 3
   },
   "file_extension": ".py",
   "mimetype": "text/x-python",
   "name": "python",
   "nbconvert_exporter": "python",
   "pygments_lexer": "ipython3",
   "version": "3.8.10"
  },
  "orig_nbformat": 4,
  "vscode": {
   "interpreter": {
    "hash": "e7370f93d1d0cde622a1f8e1c04877d8463912d04d973331ad4851f04de6915a"
   }
  }
 },
 "nbformat": 4,
 "nbformat_minor": 2
}
