{
 "cells": [
  {
   "cell_type": "code",
   "execution_count": 1,
   "metadata": {},
   "outputs": [
    {
     "name": "stderr",
     "output_type": "stream",
     "text": [
      "2022-10-19 19:24:23.591312: I tensorflow/core/platform/cpu_feature_guard.cc:193] This TensorFlow binary is optimized with oneAPI Deep Neural Network Library (oneDNN) to use the following CPU instructions in performance-critical operations:  AVX2 AVX_VNNI FMA\n",
      "To enable them in other operations, rebuild TensorFlow with the appropriate compiler flags.\n",
      "2022-10-19 19:24:23.672040: I tensorflow/core/util/util.cc:169] oneDNN custom operations are on. You may see slightly different numerical results due to floating-point round-off errors from different computation orders. To turn them off, set the environment variable `TF_ENABLE_ONEDNN_OPTS=0`.\n",
      "2022-10-19 19:24:23.690216: E tensorflow/stream_executor/cuda/cuda_blas.cc:2981] Unable to register cuBLAS factory: Attempting to register factory for plugin cuBLAS when one has already been registered\n",
      "2022-10-19 19:24:24.975653: W tensorflow/stream_executor/platform/default/dso_loader.cc:64] Could not load dynamic library 'libnvinfer.so.7'; dlerror: libnvinfer.so.7: cannot open shared object file: No such file or directory; LD_LIBRARY_PATH: /usr/local/cuda-11.7/lib64\n",
      "2022-10-19 19:24:24.975780: W tensorflow/stream_executor/platform/default/dso_loader.cc:64] Could not load dynamic library 'libnvinfer_plugin.so.7'; dlerror: libnvinfer_plugin.so.7: cannot open shared object file: No such file or directory; LD_LIBRARY_PATH: /usr/local/cuda-11.7/lib64\n",
      "2022-10-19 19:24:24.975792: W tensorflow/compiler/tf2tensorrt/utils/py_utils.cc:38] TF-TRT Warning: Cannot dlopen some TensorRT libraries. If you would like to use Nvidia GPU with TensorRT, please make sure the missing libraries mentioned above are installed properly.\n"
     ]
    }
   ],
   "source": [
    "from structs import MoonBoardRoute\n",
    "from MoonBoardRNN.BetaMove.preprocessing_helper import generate_organized_sequence_data\n",
    "from MoonBoardRNN.BetaMove.BetaMove import route_to_x_vectors\n",
    "from MoonBoardRNN.GradeNet.grade_net import GradeNet"
   ]
  },
  {
   "cell_type": "code",
   "execution_count": 4,
   "metadata": {},
   "outputs": [
    {
     "name": "stdout",
     "output_type": "stream",
     "text": [
      "After Beamer search, the most possible hand sequence and the successRate:\n",
      "['F5', 'F5', 'C7', 'D9', 'B11', 'E13', 'B15', 'D18']\n",
      "[0, 0, 1, 2, 3, 4, 5, 7] ['LH', 'RH', 'LH', 'RH', 'LH', 'RH', 'LH', 'RH'] [83.49613078]\n"
     ]
    }
   ],
   "source": [
    "# Test Route - PULL YASELF UP! YAY, V4 set by Hoseok Lee\n",
    "start_holds = ['F5']\n",
    "end_holds = ['D18']\n",
    "others = ['C7', 'D9', 'B11', 'E13', 'B15', 'D18']\n",
    "route = MoonBoardRoute.from_hold_strings(start_holds, others, end_holds)\n",
    "x_vectors = route_to_x_vectors(route)\n",
    "net = GradeNet()\n",
    "grade = net.grade_route(route)\n",
    "print(grade)\n",
    "#print(x_vectors)\n",
    "\n"
   ]
  }
 ],
 "metadata": {
  "kernelspec": {
   "display_name": "Python 3.8.10 64-bit",
   "language": "python",
   "name": "python3"
  },
  "language_info": {
   "codemirror_mode": {
    "name": "ipython",
    "version": 3
   },
   "file_extension": ".py",
   "mimetype": "text/x-python",
   "name": "python",
   "nbconvert_exporter": "python",
   "pygments_lexer": "ipython3",
   "version": "3.8.10"
  },
  "orig_nbformat": 4,
  "vscode": {
   "interpreter": {
    "hash": "e7370f93d1d0cde622a1f8e1c04877d8463912d04d973331ad4851f04de6915a"
   }
  }
 },
 "nbformat": 4,
 "nbformat_minor": 2
}
