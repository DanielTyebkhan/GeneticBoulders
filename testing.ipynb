{
 "cells": [
  {
   "cell_type": "code",
   "execution_count": 1,
   "metadata": {},
   "outputs": [],
   "source": [
    "from structs import MoonboardRoute\n",
    "from MoonBoardRNN.BetaMove.preprocessing_helper import generate_organized_sequence_data"
   ]
  },
  {
   "cell_type": "code",
   "execution_count": 4,
   "metadata": {},
   "outputs": [
    {
     "ename": "AttributeError",
     "evalue": "'dict' object has no attribute 'T'",
     "output_type": "error",
     "traceback": [
      "\u001b[1;31m---------------------------------------------------------------------------\u001b[0m",
      "\u001b[1;31mAttributeError\u001b[0m                            Traceback (most recent call last)",
      "Cell \u001b[1;32mIn [4], line 7\u001b[0m\n\u001b[0;32m      5\u001b[0m route \u001b[38;5;241m=\u001b[39m MoonboardRoute\u001b[38;5;241m.\u001b[39mfrom_hold_strings(others, start_holds, end_hold)\n\u001b[0;32m      6\u001b[0m xd \u001b[38;5;241m=\u001b[39m {route\u001b[38;5;241m.\u001b[39mget_id_str(): route\u001b[38;5;241m.\u001b[39mto_dict()}\n\u001b[1;32m----> 7\u001b[0m seq \u001b[38;5;241m=\u001b[39m \u001b[43mproduce_sequence\u001b[49m\u001b[43m(\u001b[49m\u001b[43mroute\u001b[49m\u001b[38;5;241;43m.\u001b[39;49m\u001b[43mget_id_str\u001b[49m\u001b[43m(\u001b[49m\u001b[43m)\u001b[49m\u001b[43m,\u001b[49m\u001b[43m \u001b[49m\u001b[43mxd\u001b[49m\u001b[43m)\u001b[49m\n\u001b[0;32m      8\u001b[0m \u001b[38;5;28mprint\u001b[39m(route)\n\u001b[0;32m      9\u001b[0m \u001b[38;5;28mprint\u001b[39m(seq)\n",
      "File \u001b[1;32mc:\\Users\\dkenp\\source\\repos\\GeneticBoulders\\MoonBoardRNN\\BetaMove\\preprocessing_helper.py:690\u001b[0m, in \u001b[0;36mproduce_sequence\u001b[1;34m(keyNum, X_dict, n_return, printout)\u001b[0m\n\u001b[0;32m    688\u001b[0m moonboardTest \u001b[39m=\u001b[39m X_dict[keyNum]\n\u001b[0;32m    689\u001b[0m \u001b[39m#moonboardTestUrl = MoonBoard_2016_withurl[keyNum]\u001b[39;00m\n\u001b[1;32m--> 690\u001b[0m testbeta \u001b[39m=\u001b[39m beta(moonboardTest\u001b[39m.\u001b[39;49mT)\n\u001b[0;32m    691\u001b[0m status \u001b[39m=\u001b[39m [beta(moonboardTest\u001b[39m.\u001b[39mT), beta(moonboardTest\u001b[39m.\u001b[39mT)]\n\u001b[0;32m    692\u001b[0m status[\u001b[39m0\u001b[39m]\u001b[39m.\u001b[39maddStartHolds(\u001b[39m0\u001b[39m)\n",
      "\u001b[1;31mAttributeError\u001b[0m: 'dict' object has no attribute 'T'"
     ]
    }
   ],
   "source": [
    "# Test Route - PULL YASELF UP! YAY, V4 set by Hoseok Lee\n",
    "start_holds = ['F5']\n",
    "end_hold = 'D18'\n",
    "others = ['C7', 'D9', 'B11', 'E13', 'B15', 'D18']\n",
    "route = MoonboardRoute.from_hold_strings(others, start_holds, end_hold)\n",
    "xd = {'first': {route.get_id_str(): route.to_dict()}}\n",
    "seq = generate_organized_sequence_data(xd, './temp')\n",
    "print(route)\n",
    "print(seq)\n",
    "\n"
   ]
  },
  {
   "cell_type": "code",
   "execution_count": null,
   "metadata": {},
   "outputs": [],
   "source": []
  }
 ],
 "metadata": {
  "kernelspec": {
   "display_name": "Python 3.8.5 64-bit",
   "language": "python",
   "name": "python3"
  },
  "language_info": {
   "codemirror_mode": {
    "name": "ipython",
    "version": 3
   },
   "file_extension": ".py",
   "mimetype": "text/x-python",
   "name": "python",
   "nbconvert_exporter": "python",
   "pygments_lexer": "ipython3",
   "version": "3.8.5"
  },
  "orig_nbformat": 4,
  "vscode": {
   "interpreter": {
    "hash": "9650cb4e16cdd4a8e8e2d128bf38d875813998db22a3c986335f89e0cb4d7bb2"
   }
  }
 },
 "nbformat": 4,
 "nbformat_minor": 2
}
