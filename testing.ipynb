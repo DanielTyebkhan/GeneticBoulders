{
 "cells": [
  {
   "cell_type": "code",
   "execution_count": 1,
   "metadata": {},
   "outputs": [
    {
     "name": "stderr",
     "output_type": "stream",
     "text": [
      "2022-10-24 11:01:13.357074: I tensorflow/core/platform/cpu_feature_guard.cc:193] This TensorFlow binary is optimized with oneAPI Deep Neural Network Library (oneDNN) to use the following CPU instructions in performance-critical operations:  AVX2 FMA\n",
      "To enable them in other operations, rebuild TensorFlow with the appropriate compiler flags.\n",
      "2022-10-24 11:01:13.803942: W tensorflow/stream_executor/platform/default/dso_loader.cc:64] Could not load dynamic library 'libcudart.so.11.0'; dlerror: libcudart.so.11.0: cannot open shared object file: No such file or directory\n",
      "2022-10-24 11:01:13.804021: I tensorflow/stream_executor/cuda/cudart_stub.cc:29] Ignore above cudart dlerror if you do not have a GPU set up on your machine.\n",
      "2022-10-24 11:01:13.915624: E tensorflow/stream_executor/cuda/cuda_blas.cc:2981] Unable to register cuBLAS factory: Attempting to register factory for plugin cuBLAS when one has already been registered\n",
      "2022-10-24 11:01:15.511594: W tensorflow/stream_executor/platform/default/dso_loader.cc:64] Could not load dynamic library 'libnvinfer.so.7'; dlerror: libnvinfer.so.7: cannot open shared object file: No such file or directory\n",
      "2022-10-24 11:01:15.511662: W tensorflow/stream_executor/platform/default/dso_loader.cc:64] Could not load dynamic library 'libnvinfer_plugin.so.7'; dlerror: libnvinfer_plugin.so.7: cannot open shared object file: No such file or directory\n",
      "2022-10-24 11:01:15.511669: W tensorflow/compiler/tf2tensorrt/utils/py_utils.cc:38] TF-TRT Warning: Cannot dlopen some TensorRT libraries. If you would like to use Nvidia GPU with TensorRT, please make sure the missing libraries mentioned above are installed properly.\n"
     ]
    }
   ],
   "source": [
    "from MoonBoardRNN.BetaMove.BetaMove import route_to_x_vectors\n",
    "from MoonBoardRNN.GradeNet.grade_net import GradeNet\n",
    "from MoonBoardRNN.BetaMove.BetaMove import classify_and_reorganize_data_ga\n",
    "from MoonBoardRNN.BetaMove.BetaMove import x_vectors_to_matrix\n",
    "from MoonBoardRNN.BetaMove.BetaMove import produce_sequence"
   ]
  },
  {
   "cell_type": "code",
   "execution_count": 2,
   "metadata": {},
   "outputs": [
    {
     "ename": "ValueError",
     "evalue": "MoonBoardHold(row=17, col=11) is not in list",
     "output_type": "error",
     "traceback": [
      "\u001b[0;31m---------------------------------------------------------------------------\u001b[0m",
      "\u001b[0;31mValueError\u001b[0m                                Traceback (most recent call last)",
      "Cell \u001b[0;32mIn [2], line 2\u001b[0m\n\u001b[1;32m      1\u001b[0m rand_route \u001b[39m=\u001b[39m MoonBoardRoute\u001b[39m.\u001b[39mmake_random_valid()\n\u001b[0;32m----> 2\u001b[0m params \u001b[39m=\u001b[39m route_to_ME_params(rand_route)\n\u001b[1;32m      3\u001b[0m \u001b[39mprint\u001b[39m(rand_route)\n\u001b[1;32m      4\u001b[0m \u001b[39mprint\u001b[39m(params)\n",
      "File \u001b[0;32m~/GeneticBoulders/MapElites/me_utils.py:33\u001b[0m, in \u001b[0;36mroute_to_ME_params\u001b[0;34m(route)\u001b[0m\n\u001b[1;32m     31\u001b[0m     arr\u001b[39m.\u001b[39mappend(\u001b[39m-\u001b[39m\u001b[39m1\u001b[39m)\n\u001b[1;32m     32\u001b[0m arr\u001b[39m.\u001b[39mappend(nend)\n\u001b[0;32m---> 33\u001b[0m arr \u001b[39m+\u001b[39m\u001b[39m=\u001b[39m MoonBoardRoute\u001b[39m.\u001b[39;49mholds_to_indices(route\u001b[39m.\u001b[39;49mend_holds)\n\u001b[1;32m     34\u001b[0m \u001b[39mif\u001b[39;00m nend \u001b[39m<\u001b[39m \u001b[39m2\u001b[39m:\n\u001b[1;32m     35\u001b[0m     arr\u001b[39m.\u001b[39mappend(\u001b[39m-\u001b[39m\u001b[39m1\u001b[39m)\n",
      "File \u001b[0;32m~/GeneticBoulders/share/moonboard_util.py:164\u001b[0m, in \u001b[0;36mMoonBoardRoute.holds_to_indices\u001b[0;34m(holds)\u001b[0m\n\u001b[1;32m    163\u001b[0m \u001b[39mdef\u001b[39;00m \u001b[39mholds_to_indices\u001b[39m(holds: MoonBoardHolds) \u001b[39m-\u001b[39m\u001b[39m>\u001b[39m List[\u001b[39mint\u001b[39m]:\n\u001b[0;32m--> 164\u001b[0m     \u001b[39mreturn\u001b[39;00m [MoonBoardRoute\u001b[39m.\u001b[39mhold_to_valid_index(h) \u001b[39mfor\u001b[39;00m h \u001b[39min\u001b[39;00m holds]\n",
      "File \u001b[0;32m~/GeneticBoulders/share/moonboard_util.py:164\u001b[0m, in \u001b[0;36m<listcomp>\u001b[0;34m(.0)\u001b[0m\n\u001b[1;32m    163\u001b[0m \u001b[39mdef\u001b[39;00m \u001b[39mholds_to_indices\u001b[39m(holds: MoonBoardHolds) \u001b[39m-\u001b[39m\u001b[39m>\u001b[39m List[\u001b[39mint\u001b[39m]:\n\u001b[0;32m--> 164\u001b[0m     \u001b[39mreturn\u001b[39;00m [MoonBoardRoute\u001b[39m.\u001b[39;49mhold_to_valid_index(h) \u001b[39mfor\u001b[39;00m h \u001b[39min\u001b[39;00m holds]\n",
      "File \u001b[0;32m~/GeneticBoulders/share/moonboard_util.py:161\u001b[0m, in \u001b[0;36mMoonBoardRoute.hold_to_valid_index\u001b[0;34m(hold)\u001b[0m\n\u001b[1;32m    160\u001b[0m \u001b[39mdef\u001b[39;00m \u001b[39mhold_to_valid_index\u001b[39m(hold: MoonBoardHold) \u001b[39m-\u001b[39m\u001b[39m>\u001b[39m \u001b[39mint\u001b[39m:\n\u001b[0;32m--> 161\u001b[0m     \u001b[39mreturn\u001b[39;00m MoonBoardRoute\u001b[39m.\u001b[39;49mINDEX_MAP_1D()\u001b[39m.\u001b[39;49mindex(hold)\n",
      "\u001b[0;31mValueError\u001b[0m: MoonBoardHold(row=17, col=11) is not in list"
     ]
    }
   ],
   "source": [
    "from share.moonboard_util import MoonBoardRoute\n",
    "from MapElites.me_utils import *\n",
    "\n",
    "rand_route = MoonBoardRoute.make_random_valid()\n",
    "params = route_to_ME_params(rand_route)\n",
    "print(rand_route)\n",
    "print(params)"
   ]
  },
  {
   "cell_type": "code",
   "execution_count": 4,
   "metadata": {},
   "outputs": [
    {
     "name": "stdout",
     "output_type": "stream",
     "text": [
      "\n"
     ]
    },
    {
     "name": "stderr",
     "output_type": "stream",
     "text": [
      "2022-10-23 21:28:15.532904: I tensorflow/stream_executor/cuda/cuda_gpu_executor.cc:980] successful NUMA node read from SysFS had negative value (-1), but there must be at least one NUMA node, so returning NUMA node zero\n",
      "2022-10-23 21:28:15.533452: W tensorflow/stream_executor/platform/default/dso_loader.cc:64] Could not load dynamic library 'libcudart.so.11.0'; dlerror: libcudart.so.11.0: cannot open shared object file: No such file or directory\n",
      "2022-10-23 21:28:15.533509: W tensorflow/stream_executor/platform/default/dso_loader.cc:64] Could not load dynamic library 'libcublas.so.11'; dlerror: libcublas.so.11: cannot open shared object file: No such file or directory\n",
      "2022-10-23 21:28:15.533557: W tensorflow/stream_executor/platform/default/dso_loader.cc:64] Could not load dynamic library 'libcublasLt.so.11'; dlerror: libcublasLt.so.11: cannot open shared object file: No such file or directory\n",
      "2022-10-23 21:28:15.533605: W tensorflow/stream_executor/platform/default/dso_loader.cc:64] Could not load dynamic library 'libcufft.so.10'; dlerror: libcufft.so.10: cannot open shared object file: No such file or directory\n",
      "2022-10-23 21:28:15.533658: W tensorflow/stream_executor/platform/default/dso_loader.cc:64] Could not load dynamic library 'libcurand.so.10'; dlerror: libcurand.so.10: cannot open shared object file: No such file or directory\n",
      "2022-10-23 21:28:15.533704: W tensorflow/stream_executor/platform/default/dso_loader.cc:64] Could not load dynamic library 'libcusolver.so.11'; dlerror: libcusolver.so.11: cannot open shared object file: No such file or directory\n",
      "2022-10-23 21:28:15.533748: W tensorflow/stream_executor/platform/default/dso_loader.cc:64] Could not load dynamic library 'libcusparse.so.11'; dlerror: libcusparse.so.11: cannot open shared object file: No such file or directory\n",
      "2022-10-23 21:28:15.533791: W tensorflow/stream_executor/platform/default/dso_loader.cc:64] Could not load dynamic library 'libcudnn.so.8'; dlerror: libcudnn.so.8: cannot open shared object file: No such file or directory\n",
      "2022-10-23 21:28:15.533800: W tensorflow/core/common_runtime/gpu/gpu_device.cc:1934] Cannot dlopen some GPU libraries. Please make sure the missing libraries mentioned above are installed properly if you would like to use GPU. Follow the guide at https://www.tensorflow.org/install/gpu for how to download and setup the required libraries for your platform.\n",
      "Skipping registering GPU devices...\n",
      "2022-10-23 21:28:15.534162: I tensorflow/core/platform/cpu_feature_guard.cc:193] This TensorFlow binary is optimized with oneAPI Deep Neural Network Library (oneDNN) to use the following CPU instructions in performance-critical operations:  AVX2 FMA\n",
      "To enable them in other operations, rebuild TensorFlow with the appropriate compiler flags.\n"
     ]
    },
    {
     "name": "stdout",
     "output_type": "stream",
     "text": [
      "After Beamer search, the most possible hand sequence and the successRate:\n",
      "['F5', 'F5', 'C7', 'D9', 'B11', 'E13', 'B15', 'D18']\n",
      "[0, 0, 1, 2, 3, 4, 5, 7] ['LH', 'RH', 'LH', 'RH', 'LH', 'RH', 'LH', 'RH'] [83.49613078]\n",
      "1/1 [==============================] - 4s 4s/step\n",
      "V6\n"
     ]
    }
   ],
   "source": [
    "# Test Route - PULL YASELF UP! YAY, V4 set by Hoseok Lee\n",
    "\n",
    "\n",
    "\n",
    "start_holds = ['F5']\n",
    "end_holds = ['D18']\n",
    "others = ['C7', 'D9', 'B11', 'E13', 'B15', 'D18']\n",
    "route = MoonBoardRoute.from_hold_strings(start_holds=start_holds, mid_holds=others, end_holds=end_holds)\n",
    "# x_vecs = route_to_x_vectors(route)\n",
    "# matrix = x_vectors_to_matrix(x_vecs)\n",
    "\n",
    "print('')\n",
    "# x_vectors = route_to_x_vectors(route)\n",
    "net = GradeNet()\n",
    "grade = net.grade_route(route)\n",
    "print(grade)\n",
    "#print(x_vectors)\n",
    "\n"
   ]
  }
 ],
 "metadata": {
  "kernelspec": {
   "display_name": "Python 3.8.10 64-bit",
   "language": "python",
   "name": "python3"
  },
  "language_info": {
   "codemirror_mode": {
    "name": "ipython",
    "version": 3
   },
   "file_extension": ".py",
   "mimetype": "text/x-python",
   "name": "python",
   "nbconvert_exporter": "python",
   "pygments_lexer": "ipython3",
   "version": "3.8.10"
  },
  "orig_nbformat": 4,
  "vscode": {
   "interpreter": {
    "hash": "31f2aee4e71d21fbe5cf8b01ff0e069b9275f58929596ceb00d14d90e3e16cd6"
   }
  }
 },
 "nbformat": 4,
 "nbformat_minor": 2
}
