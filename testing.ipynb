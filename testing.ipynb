{
 "cells": [
  {
   "cell_type": "code",
   "execution_count": 3,
   "metadata": {},
   "outputs": [],
   "source": [
    "from structs import MoonBoardRoute\n",
    "from MoonBoardRNN.BetaMove.BetaMove import route_to_x_vectors\n",
    "from MoonBoardRNN.GradeNet.grade_net import GradeNet\n",
    "from MoonBoardRNN.BetaMove.BetaMove import classify_and_reorganize_data_ga\n",
    "from MoonBoardRNN.BetaMove.BetaMove import x_vectors_to_matrix\n",
    "from MoonBoardRNN.BetaMove.BetaMove import produce_sequence"
   ]
  },
  {
   "cell_type": "code",
   "execution_count": 4,
   "metadata": {},
   "outputs": [
    {
     "name": "stdout",
     "output_type": "stream",
     "text": [
      "\n"
     ]
    },
    {
     "name": "stderr",
     "output_type": "stream",
     "text": [
      "2022-10-23 20:36:54.378148: I tensorflow/stream_executor/cuda/cuda_gpu_executor.cc:980] successful NUMA node read from SysFS had negative value (-1), but there must be at least one NUMA node, so returning NUMA node zero\n",
      "2022-10-23 20:36:54.378383: W tensorflow/stream_executor/platform/default/dso_loader.cc:64] Could not load dynamic library 'libcudart.so.11.0'; dlerror: libcudart.so.11.0: cannot open shared object file: No such file or directory\n",
      "2022-10-23 20:36:54.378470: W tensorflow/stream_executor/platform/default/dso_loader.cc:64] Could not load dynamic library 'libcublas.so.11'; dlerror: libcublas.so.11: cannot open shared object file: No such file or directory\n",
      "2022-10-23 20:36:54.378541: W tensorflow/stream_executor/platform/default/dso_loader.cc:64] Could not load dynamic library 'libcublasLt.so.11'; dlerror: libcublasLt.so.11: cannot open shared object file: No such file or directory\n",
      "2022-10-23 20:36:54.378609: W tensorflow/stream_executor/platform/default/dso_loader.cc:64] Could not load dynamic library 'libcufft.so.10'; dlerror: libcufft.so.10: cannot open shared object file: No such file or directory\n",
      "2022-10-23 20:36:54.378679: W tensorflow/stream_executor/platform/default/dso_loader.cc:64] Could not load dynamic library 'libcurand.so.10'; dlerror: libcurand.so.10: cannot open shared object file: No such file or directory\n",
      "2022-10-23 20:36:54.378747: W tensorflow/stream_executor/platform/default/dso_loader.cc:64] Could not load dynamic library 'libcusolver.so.11'; dlerror: libcusolver.so.11: cannot open shared object file: No such file or directory\n",
      "2022-10-23 20:36:54.378815: W tensorflow/stream_executor/platform/default/dso_loader.cc:64] Could not load dynamic library 'libcusparse.so.11'; dlerror: libcusparse.so.11: cannot open shared object file: No such file or directory\n",
      "2022-10-23 20:36:54.378884: W tensorflow/stream_executor/platform/default/dso_loader.cc:64] Could not load dynamic library 'libcudnn.so.8'; dlerror: libcudnn.so.8: cannot open shared object file: No such file or directory\n",
      "2022-10-23 20:36:54.378895: W tensorflow/core/common_runtime/gpu/gpu_device.cc:1934] Cannot dlopen some GPU libraries. Please make sure the missing libraries mentioned above are installed properly if you would like to use GPU. Follow the guide at https://www.tensorflow.org/install/gpu for how to download and setup the required libraries for your platform.\n",
      "Skipping registering GPU devices...\n",
      "2022-10-23 20:36:54.379426: I tensorflow/core/platform/cpu_feature_guard.cc:193] This TensorFlow binary is optimized with oneAPI Deep Neural Network Library (oneDNN) to use the following CPU instructions in performance-critical operations:  AVX2 FMA\n",
      "To enable them in other operations, rebuild TensorFlow with the appropriate compiler flags.\n"
     ]
    },
    {
     "name": "stdout",
     "output_type": "stream",
     "text": [
      "After Beamer search, the most possible hand sequence and the successRate:\n",
      "['F5', 'F5', 'C7', 'D9', 'B11', 'E13', 'B15', 'D18']\n",
      "[0, 0, 1, 2, 3, 4, 5, 7] ['LH', 'RH', 'LH', 'RH', 'LH', 'RH', 'LH', 'RH'] [83.49613078]\n",
      "1/1 [==============================] - 3s 3s/step\n",
      "V6\n"
     ]
    }
   ],
   "source": [
    "# Test Route - PULL YASELF UP! YAY, V4 set by Hoseok Lee\n",
    "\n",
    "\n",
    "\n",
    "start_holds = ['F5']\n",
    "end_holds = ['D18']\n",
    "others = ['C7', 'D9', 'B11', 'E13', 'B15', 'D18']\n",
    "route = MoonBoardRoute.from_hold_strings(start_holds, others, end_holds)\n",
    "# x_vecs = route_to_x_vectors(route)\n",
    "# matrix = x_vectors_to_matrix(x_vecs)\n",
    "\n",
    "print('')\n",
    "# x_vectors = route_to_x_vectors(route)\n",
    "net = GradeNet()\n",
    "grade = net.grade_route(route)\n",
    "print(grade)\n",
    "#print(x_vectors)\n",
    "\n"
   ]
  }
 ],
 "metadata": {
  "kernelspec": {
   "display_name": "Python 3.8.10 64-bit",
   "language": "python",
   "name": "python3"
  },
  "language_info": {
   "codemirror_mode": {
    "name": "ipython",
    "version": 3
   },
   "file_extension": ".py",
   "mimetype": "text/x-python",
   "name": "python",
   "nbconvert_exporter": "python",
   "pygments_lexer": "ipython3",
   "version": "3.8.10"
  },
  "orig_nbformat": 4,
  "vscode": {
   "interpreter": {
    "hash": "31f2aee4e71d21fbe5cf8b01ff0e069b9275f58929596ceb00d14d90e3e16cd6"
   }
  }
 },
 "nbformat": 4,
 "nbformat_minor": 2
}
