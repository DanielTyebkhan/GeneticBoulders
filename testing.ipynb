{
 "cells": [
  {
   "cell_type": "code",
   "execution_count": 1,
   "metadata": {},
   "outputs": [],
   "source": [
    "from structs import MoonboardRoute\n",
    "from MoonBoardRNN.BetaMove.preprocessing_helper import generate_organized_sequence_data\n",
    "from MoonBoardRNN.BetaMove.BetaMove import find_route_beta"
   ]
  },
  {
   "cell_type": "code",
   "execution_count": 2,
   "metadata": {},
   "outputs": [
    {
     "ename": "KeyError",
     "evalue": "(3, 18)",
     "output_type": "error",
     "traceback": [
      "\u001b[0;31m---------------------------------------------------------------------------\u001b[0m",
      "\u001b[0;31mKeyError\u001b[0m                                  Traceback (most recent call last)",
      "\u001b[1;32m/home/tyebkhad/GeneticBoulders/testing.ipynb Cell 2\u001b[0m in \u001b[0;36m<cell line: 6>\u001b[0;34m()\u001b[0m\n\u001b[1;32m      <a href='vscode-notebook-cell:/home/tyebkhad/GeneticBoulders/testing.ipynb#W1sZmlsZQ%3D%3D?line=3'>4</a>\u001b[0m others \u001b[39m=\u001b[39m [\u001b[39m'\u001b[39m\u001b[39mC7\u001b[39m\u001b[39m'\u001b[39m, \u001b[39m'\u001b[39m\u001b[39mD9\u001b[39m\u001b[39m'\u001b[39m, \u001b[39m'\u001b[39m\u001b[39mB11\u001b[39m\u001b[39m'\u001b[39m, \u001b[39m'\u001b[39m\u001b[39mE13\u001b[39m\u001b[39m'\u001b[39m, \u001b[39m'\u001b[39m\u001b[39mB15\u001b[39m\u001b[39m'\u001b[39m, \u001b[39m'\u001b[39m\u001b[39mD18\u001b[39m\u001b[39m'\u001b[39m]\n\u001b[1;32m      <a href='vscode-notebook-cell:/home/tyebkhad/GeneticBoulders/testing.ipynb#W1sZmlsZQ%3D%3D?line=4'>5</a>\u001b[0m route \u001b[39m=\u001b[39m MoonboardRoute\u001b[39m.\u001b[39mfrom_hold_strings(others, start_holds, end_hold)\n\u001b[0;32m----> <a href='vscode-notebook-cell:/home/tyebkhad/GeneticBoulders/testing.ipynb#W1sZmlsZQ%3D%3D?line=5'>6</a>\u001b[0m beta \u001b[39m=\u001b[39m find_route_beta(route)\n\u001b[1;32m      <a href='vscode-notebook-cell:/home/tyebkhad/GeneticBoulders/testing.ipynb#W1sZmlsZQ%3D%3D?line=6'>7</a>\u001b[0m \u001b[39mprint\u001b[39m(route)\n\u001b[1;32m      <a href='vscode-notebook-cell:/home/tyebkhad/GeneticBoulders/testing.ipynb#W1sZmlsZQ%3D%3D?line=7'>8</a>\u001b[0m \u001b[39mprint\u001b[39m(beta)\n",
      "File \u001b[0;32m~/GeneticBoulders/MoonBoardRNN/BetaMove/BetaMove.py:8\u001b[0m, in \u001b[0;36mfind_route_beta\u001b[0;34m(route)\u001b[0m\n\u001b[1;32m      7\u001b[0m \u001b[39mdef\u001b[39;00m \u001b[39mfind_route_beta\u001b[39m(route: MoonboardRoute):\n\u001b[0;32m----> 8\u001b[0m \tdata_dict \u001b[39m=\u001b[39m {route\u001b[39m.\u001b[39mget_id_str(): route_to_x_vectors(route)}\n\u001b[1;32m      9\u001b[0m \t\u001b[39mreturn\u001b[39;00m ph\u001b[39m.\u001b[39mproduce_sequence(route\u001b[39m.\u001b[39mId, data_dict)\n",
      "File \u001b[0;32m~/GeneticBoulders/MoonBoardRNN/rnn_helpers.py:23\u001b[0m, in \u001b[0;36mroute_to_x_vectors\u001b[0;34m(route)\u001b[0m\n\u001b[1;32m     21\u001b[0m \u001b[39mfor\u001b[39;00m i, hold \u001b[39min\u001b[39;00m \u001b[39menumerate\u001b[39m(route\u001b[39m.\u001b[39mholds):\n\u001b[1;32m     22\u001b[0m     x, y \u001b[39m=\u001b[39m hold\u001b[39m.\u001b[39mcol, hold\u001b[39m.\u001b[39mrow\n\u001b[0;32m---> 23\u001b[0m     x_vectors[\u001b[39m0\u001b[39m:\u001b[39m6\u001b[39m, i] \u001b[39m=\u001b[39m feature_dict[(x, y)] \u001b[39m# hand feature encoding\u001b[39;00m\n\u001b[1;32m     24\u001b[0m     x_vectors[\u001b[39m6\u001b[39m:\u001b[39m8\u001b[39m, i] \u001b[39m=\u001b[39m [x, y] \u001b[39m# coordinate encoding\u001b[39;00m\n\u001b[1;32m     25\u001b[0m n_holds \u001b[39m=\u001b[39m route\u001b[39m.\u001b[39mnum_holds()\n",
      "\u001b[0;31mKeyError\u001b[0m: (3, 18)"
     ]
    }
   ],
   "source": [
    "# Test Route - PULL YASELF UP! YAY, V4 set by Hoseok Lee\n",
    "start_holds = ['F5']\n",
    "end_hold = 'D18'\n",
    "others = ['C7', 'D9', 'B11', 'E13', 'B15', 'D18']\n",
    "route = MoonboardRoute.from_hold_strings(others, start_holds, end_hold)\n",
    "beta = find_route_beta(route)\n",
    "print(route)\n",
    "print(beta)\n",
    "\n"
   ]
  },
  {
   "cell_type": "code",
   "execution_count": null,
   "metadata": {},
   "outputs": [],
   "source": []
  }
 ],
 "metadata": {
  "kernelspec": {
   "display_name": "Python 3.8.10 64-bit",
   "language": "python",
   "name": "python3"
  },
  "language_info": {
   "codemirror_mode": {
    "name": "ipython",
    "version": 3
   },
   "file_extension": ".py",
   "mimetype": "text/x-python",
   "name": "python",
   "nbconvert_exporter": "python",
   "pygments_lexer": "ipython3",
   "version": "3.8.10"
  },
  "orig_nbformat": 4,
  "vscode": {
   "interpreter": {
    "hash": "e7370f93d1d0cde622a1f8e1c04877d8463912d04d973331ad4851f04de6915a"
   }
  }
 },
 "nbformat": 4,
 "nbformat_minor": 2
}
