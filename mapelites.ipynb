{
 "cells": [
  {
   "cell_type": "code",
   "execution_count": 1,
   "metadata": {},
   "outputs": [
    {
     "name": "stderr",
     "output_type": "stream",
     "text": [
      "2022-10-25 08:20:25.820733: I tensorflow/core/platform/cpu_feature_guard.cc:193] This TensorFlow binary is optimized with oneAPI Deep Neural Network Library (oneDNN) to use the following CPU instructions in performance-critical operations:  AVX2 FMA\n",
      "To enable them in other operations, rebuild TensorFlow with the appropriate compiler flags.\n",
      "2022-10-25 08:20:25.967183: W tensorflow/stream_executor/platform/default/dso_loader.cc:64] Could not load dynamic library 'libcudart.so.11.0'; dlerror: libcudart.so.11.0: cannot open shared object file: No such file or directory\n",
      "2022-10-25 08:20:25.967206: I tensorflow/stream_executor/cuda/cudart_stub.cc:29] Ignore above cudart dlerror if you do not have a GPU set up on your machine.\n",
      "2022-10-25 08:20:25.994002: E tensorflow/stream_executor/cuda/cuda_blas.cc:2981] Unable to register cuBLAS factory: Attempting to register factory for plugin cuBLAS when one has already been registered\n",
      "2022-10-25 08:20:26.910524: W tensorflow/stream_executor/platform/default/dso_loader.cc:64] Could not load dynamic library 'libnvinfer.so.7'; dlerror: libnvinfer.so.7: cannot open shared object file: No such file or directory\n",
      "2022-10-25 08:20:26.910615: W tensorflow/stream_executor/platform/default/dso_loader.cc:64] Could not load dynamic library 'libnvinfer_plugin.so.7'; dlerror: libnvinfer_plugin.so.7: cannot open shared object file: No such file or directory\n",
      "2022-10-25 08:20:26.910622: W tensorflow/compiler/tf2tensorrt/utils/py_utils.cc:38] TF-TRT Warning: Cannot dlopen some TensorRT libraries. If you would like to use Nvidia GPU with TensorRT, please make sure the missing libraries mentioned above are installed properly.\n"
     ]
    }
   ],
   "source": [
    "import random\n",
    "\n",
    "from share.moonboard_util import MoonBoardRoute\n",
    "from MapElites.me_utils import MEParams\n",
    "import MapElites.ribs_interface as me\n",
    "\n",
    "random.seed(4114)"
   ]
  },
  {
   "cell_type": "code",
   "execution_count": 2,
   "metadata": {},
   "outputs": [
    {
     "name": "stderr",
     "output_type": "stream",
     "text": [
      "2022-10-25 08:20:30.122669: I tensorflow/stream_executor/cuda/cuda_gpu_executor.cc:980] successful NUMA node read from SysFS had negative value (-1), but there must be at least one NUMA node, so returning NUMA node zero\n",
      "2022-10-25 08:20:30.122926: W tensorflow/stream_executor/platform/default/dso_loader.cc:64] Could not load dynamic library 'libcudart.so.11.0'; dlerror: libcudart.so.11.0: cannot open shared object file: No such file or directory\n",
      "2022-10-25 08:20:30.123001: W tensorflow/stream_executor/platform/default/dso_loader.cc:64] Could not load dynamic library 'libcublas.so.11'; dlerror: libcublas.so.11: cannot open shared object file: No such file or directory\n",
      "2022-10-25 08:20:30.123073: W tensorflow/stream_executor/platform/default/dso_loader.cc:64] Could not load dynamic library 'libcublasLt.so.11'; dlerror: libcublasLt.so.11: cannot open shared object file: No such file or directory\n",
      "2022-10-25 08:20:30.123143: W tensorflow/stream_executor/platform/default/dso_loader.cc:64] Could not load dynamic library 'libcufft.so.10'; dlerror: libcufft.so.10: cannot open shared object file: No such file or directory\n",
      "2022-10-25 08:20:30.123212: W tensorflow/stream_executor/platform/default/dso_loader.cc:64] Could not load dynamic library 'libcurand.so.10'; dlerror: libcurand.so.10: cannot open shared object file: No such file or directory\n",
      "2022-10-25 08:20:30.123279: W tensorflow/stream_executor/platform/default/dso_loader.cc:64] Could not load dynamic library 'libcusolver.so.11'; dlerror: libcusolver.so.11: cannot open shared object file: No such file or directory\n",
      "2022-10-25 08:20:30.123344: W tensorflow/stream_executor/platform/default/dso_loader.cc:64] Could not load dynamic library 'libcusparse.so.11'; dlerror: libcusparse.so.11: cannot open shared object file: No such file or directory\n",
      "2022-10-25 08:20:30.123422: W tensorflow/stream_executor/platform/default/dso_loader.cc:64] Could not load dynamic library 'libcudnn.so.8'; dlerror: libcudnn.so.8: cannot open shared object file: No such file or directory\n",
      "2022-10-25 08:20:30.123434: W tensorflow/core/common_runtime/gpu/gpu_device.cc:1934] Cannot dlopen some GPU libraries. Please make sure the missing libraries mentioned above are installed properly if you would like to use GPU. Follow the guide at https://www.tensorflow.org/install/gpu for how to download and setup the required libraries for your platform.\n",
      "Skipping registering GPU devices...\n",
      "2022-10-25 08:20:30.124035: I tensorflow/core/platform/cpu_feature_guard.cc:193] This TensorFlow binary is optimized with oneAPI Deep Neural Network Library (oneDNN) to use the following CPU instructions in performance-critical operations:  AVX2 FMA\n",
      "To enable them in other operations, rebuild TensorFlow with the appropriate compiler flags.\n"
     ]
    },
    {
     "ename": "ValueError",
     "evalue": "Invalid selection_rule 50",
     "output_type": "error",
     "traceback": [
      "\u001b[0;31m---------------------------------------------------------------------------\u001b[0m",
      "\u001b[0;31mValueError\u001b[0m                                Traceback (most recent call last)",
      "Cell \u001b[0;32mIn [2], line 3\u001b[0m\n\u001b[1;32m      1\u001b[0m params \u001b[39m=\u001b[39m MEParams(\n\u001b[1;32m      2\u001b[0m     (\u001b[39m5\u001b[39m, \u001b[39m5\u001b[39m), [(\u001b[39m0\u001b[39m, \u001b[39m1\u001b[39m), (\u001b[39m1\u001b[39m, \u001b[39m6\u001b[39m)], \u001b[39m50\u001b[39m, \u001b[39m0.01\u001b[39m, \u001b[39m4\u001b[39m, \u001b[39m500\u001b[39m)\n\u001b[0;32m----> 3\u001b[0m me\u001b[39m.\u001b[39;49mrun_mapelites(\u001b[39m'\u001b[39;49m\u001b[39mV5\u001b[39;49m\u001b[39m'\u001b[39;49m, params)\n",
      "File \u001b[0;32m~/GeneticBoulders/MapElites/ribs_interface.py:17\u001b[0m, in \u001b[0;36mrun_mapelites\u001b[0;34m(target_grade, params, report_frequency)\u001b[0m\n\u001b[1;32m     15\u001b[0m archive \u001b[39m=\u001b[39m ribs\u001b[39m.\u001b[39marchives\u001b[39m.\u001b[39mGridArchive(params\u001b[39m.\u001b[39mgrid_size, params\u001b[39m.\u001b[39mbounds)\n\u001b[1;32m     16\u001b[0m input_bounds \u001b[39m=\u001b[39m get_me_params_bounds()\n\u001b[0;32m---> 17\u001b[0m emitters \u001b[39m=\u001b[39m [\n\u001b[1;32m     18\u001b[0m     ribs\u001b[39m.\u001b[39memitters\u001b[39m.\u001b[39mImprovementEmitter(\n\u001b[1;32m     19\u001b[0m         archive, \n\u001b[1;32m     20\u001b[0m         route_to_ME_params(MoonBoardRoute\u001b[39m.\u001b[39mmake_random_valid()),\n\u001b[1;32m     21\u001b[0m         params\u001b[39m.\u001b[39msigma_0,\n\u001b[1;32m     22\u001b[0m         params\u001b[39m.\u001b[39mbatch_size,\n\u001b[1;32m     23\u001b[0m         bounds\u001b[39m=\u001b[39minput_bounds\n\u001b[1;32m     24\u001b[0m     ) \u001b[39mfor\u001b[39;00m _ \u001b[39min\u001b[39;00m \u001b[39mrange\u001b[39m(params\u001b[39m.\u001b[39mnum_emitters)\n\u001b[1;32m     25\u001b[0m ]\n\u001b[1;32m     26\u001b[0m optimizer \u001b[39m=\u001b[39m ribs\u001b[39m.\u001b[39moptimizers\u001b[39m.\u001b[39mOptimizer(archive, emitters)\n\u001b[1;32m     27\u001b[0m start_time \u001b[39m=\u001b[39m time\u001b[39m.\u001b[39mtime()\n",
      "File \u001b[0;32m~/GeneticBoulders/MapElites/ribs_interface.py:18\u001b[0m, in \u001b[0;36m<listcomp>\u001b[0;34m(.0)\u001b[0m\n\u001b[1;32m     15\u001b[0m archive \u001b[39m=\u001b[39m ribs\u001b[39m.\u001b[39marchives\u001b[39m.\u001b[39mGridArchive(params\u001b[39m.\u001b[39mgrid_size, params\u001b[39m.\u001b[39mbounds)\n\u001b[1;32m     16\u001b[0m input_bounds \u001b[39m=\u001b[39m get_me_params_bounds()\n\u001b[1;32m     17\u001b[0m emitters \u001b[39m=\u001b[39m [\n\u001b[0;32m---> 18\u001b[0m     ribs\u001b[39m.\u001b[39;49memitters\u001b[39m.\u001b[39;49mImprovementEmitter(\n\u001b[1;32m     19\u001b[0m         archive, \n\u001b[1;32m     20\u001b[0m         route_to_ME_params(MoonBoardRoute\u001b[39m.\u001b[39;49mmake_random_valid()),\n\u001b[1;32m     21\u001b[0m         params\u001b[39m.\u001b[39;49msigma_0,\n\u001b[1;32m     22\u001b[0m         params\u001b[39m.\u001b[39;49mbatch_size,\n\u001b[1;32m     23\u001b[0m         bounds\u001b[39m=\u001b[39;49minput_bounds\n\u001b[1;32m     24\u001b[0m     ) \u001b[39mfor\u001b[39;00m _ \u001b[39min\u001b[39;00m \u001b[39mrange\u001b[39m(params\u001b[39m.\u001b[39mnum_emitters)\n\u001b[1;32m     25\u001b[0m ]\n\u001b[1;32m     26\u001b[0m optimizer \u001b[39m=\u001b[39m ribs\u001b[39m.\u001b[39moptimizers\u001b[39m.\u001b[39mOptimizer(archive, emitters)\n\u001b[1;32m     27\u001b[0m start_time \u001b[39m=\u001b[39m time\u001b[39m.\u001b[39mtime()\n",
      "File \u001b[0;32m~/.local/lib/python3.8/site-packages/ribs/emitters/_improvement_emitter.py:76\u001b[0m, in \u001b[0;36mImprovementEmitter.__init__\u001b[0;34m(self, archive, x0, sigma0, selection_rule, restart_rule, weight_rule, bounds, batch_size, seed)\u001b[0m\n\u001b[1;32m     68\u001b[0m EmitterBase\u001b[39m.\u001b[39m\u001b[39m__init__\u001b[39m(\n\u001b[1;32m     69\u001b[0m     \u001b[39mself\u001b[39m,\n\u001b[1;32m     70\u001b[0m     archive,\n\u001b[1;32m     71\u001b[0m     \u001b[39mlen\u001b[39m(\u001b[39mself\u001b[39m\u001b[39m.\u001b[39m_x0),\n\u001b[1;32m     72\u001b[0m     bounds,\n\u001b[1;32m     73\u001b[0m )\n\u001b[1;32m     75\u001b[0m \u001b[39mif\u001b[39;00m selection_rule \u001b[39mnot\u001b[39;00m \u001b[39min\u001b[39;00m [\u001b[39m\"\u001b[39m\u001b[39mmu\u001b[39m\u001b[39m\"\u001b[39m, \u001b[39m\"\u001b[39m\u001b[39mfilter\u001b[39m\u001b[39m\"\u001b[39m]:\n\u001b[0;32m---> 76\u001b[0m     \u001b[39mraise\u001b[39;00m \u001b[39mValueError\u001b[39;00m(\u001b[39mf\u001b[39m\u001b[39m\"\u001b[39m\u001b[39mInvalid selection_rule \u001b[39m\u001b[39m{\u001b[39;00mselection_rule\u001b[39m}\u001b[39;00m\u001b[39m\"\u001b[39m)\n\u001b[1;32m     77\u001b[0m \u001b[39mself\u001b[39m\u001b[39m.\u001b[39m_selection_rule \u001b[39m=\u001b[39m selection_rule\n\u001b[1;32m     79\u001b[0m \u001b[39mif\u001b[39;00m restart_rule \u001b[39mnot\u001b[39;00m \u001b[39min\u001b[39;00m [\u001b[39m\"\u001b[39m\u001b[39mbasic\u001b[39m\u001b[39m\"\u001b[39m, \u001b[39m\"\u001b[39m\u001b[39mno_improvement\u001b[39m\u001b[39m\"\u001b[39m]:\n",
      "\u001b[0;31mValueError\u001b[0m: Invalid selection_rule 50"
     ]
    }
   ],
   "source": [
    "from importlib import reload\n",
    "reload(me) \n",
    "params = MEParams(\n",
    "    (5, 5), [(0, 1), (1, 6)], 50, 0.01, 4, 500)\n",
    "me.run_mapelites('V5', params)\n"
   ]
  }
 ],
 "metadata": {
  "kernelspec": {
   "display_name": "Python 3.8.10 64-bit",
   "language": "python",
   "name": "python3"
  },
  "language_info": {
   "codemirror_mode": {
    "name": "ipython",
    "version": 3
   },
   "file_extension": ".py",
   "mimetype": "text/x-python",
   "name": "python",
   "nbconvert_exporter": "python",
   "pygments_lexer": "ipython3",
   "version": "3.8.10"
  },
  "orig_nbformat": 4,
  "vscode": {
   "interpreter": {
    "hash": "31f2aee4e71d21fbe5cf8b01ff0e069b9275f58929596ceb00d14d90e3e16cd6"
   }
  }
 },
 "nbformat": 4,
 "nbformat_minor": 2
}
